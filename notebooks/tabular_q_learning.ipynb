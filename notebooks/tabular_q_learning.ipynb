{
 "cells": [
  {
   "cell_type": "code",
   "execution_count": 1,
   "metadata": {},
   "outputs": [],
   "source": [
    "%matplotlib inline"
   ]
  },
  {
   "cell_type": "code",
   "execution_count": 2,
   "metadata": {},
   "outputs": [],
   "source": [
    "import sys"
   ]
  },
  {
   "cell_type": "code",
   "execution_count": 3,
   "metadata": {},
   "outputs": [],
   "source": [
    "sys.path.insert(0, '/home/tomault/projects/pegushi/src/python/packages')"
   ]
  },
  {
   "cell_type": "code",
   "execution_count": 4,
   "metadata": {},
   "outputs": [
    {
     "name": "stdout",
     "output_type": "stream",
     "text": [
      "pygame 1.9.4\n",
      "Hello from the pygame community. https://www.pygame.org/contribute.html\n"
     ]
    }
   ],
   "source": [
    "import pegushi_gym.envs.maze"
   ]
  },
  {
   "cell_type": "code",
   "execution_count": 5,
   "metadata": {},
   "outputs": [],
   "source": [
    "from pegushi_gym.envs.maze import FixedMazeEnvironment"
   ]
  },
  {
   "cell_type": "code",
   "execution_count": 6,
   "metadata": {},
   "outputs": [],
   "source": [
    "import gym"
   ]
  },
  {
   "cell_type": "code",
   "execution_count": 7,
   "metadata": {},
   "outputs": [],
   "source": [
    "from gym.utils.seeding import np_random"
   ]
  },
  {
   "cell_type": "code",
   "execution_count": 8,
   "metadata": {},
   "outputs": [],
   "source": [
    "rng, seed = np_random(14045143762653964175L)"
   ]
  },
  {
   "cell_type": "code",
   "execution_count": 9,
   "metadata": {},
   "outputs": [
    {
     "data": {
      "text/plain": [
       "14045143762653964175L"
      ]
     },
     "execution_count": 9,
     "metadata": {},
     "output_type": "execute_result"
    }
   ],
   "source": [
    "seed"
   ]
  },
  {
   "cell_type": "code",
   "execution_count": 10,
   "metadata": {},
   "outputs": [
    {
     "data": {
      "text/plain": [
       "<mtrand.RandomState at 0x7fbd647cf960>"
      ]
     },
     "execution_count": 10,
     "metadata": {},
     "output_type": "execute_result"
    }
   ],
   "source": [
    "rng"
   ]
  },
  {
   "cell_type": "code",
   "execution_count": 11,
   "metadata": {},
   "outputs": [],
   "source": [
    "maze5x5 = FixedMazeEnvironment(width = 5, height = 5, goal = (4, 4), rng = rng, seed = seed,\n",
    "                               agent_image = '/home/tomault/projects/pegushi/src/resources/penguin24x24.png')"
   ]
  },
  {
   "cell_type": "code",
   "execution_count": 12,
   "metadata": {},
   "outputs": [],
   "source": [
    "maze5x5.render('human')"
   ]
  },
  {
   "cell_type": "code",
   "execution_count": 13,
   "metadata": {},
   "outputs": [],
   "source": [
    "import numpy as np"
   ]
  },
  {
   "cell_type": "code",
   "execution_count": 14,
   "metadata": {},
   "outputs": [],
   "source": [
    "class TabularQFunction:\n",
    "    \"\"\"Implementation of Q function with a 3D tensor (x, y, action) with both hard and soft action selection\n",
    "selection functions.\"\"\"\n",
    "    def __init__(self, q_table, rng):\n",
    "        self.q_table = q_table\n",
    "        self.num_actions = q_table.shape[-1]\n",
    "        self.rng = rng\n",
    "        \n",
    "    def __call__(self, x, y, a):\n",
    "        return self.q_table[x, y, a]\n",
    "    \n",
    "    def max_q(self, x, y):\n",
    "        return np.max(self.q_table[x, y, :])\n",
    "    \n",
    "    def select_hard(self, x, y):\n",
    "        \"\"\"Select the action with the highest q-value and lowest action number\"\"\"\n",
    "        return self.q_table[x, y, :].argmax()\n",
    "    \n",
    "    def select_soft(self, x, y):\n",
    "        \"\"\"Draw action from a categorical distribution whose parameters are computed from a softmax\n",
    "           over the q-values for the given state.\"\"\"\n",
    "        q = self.soft_q_distribution(x, y)\n",
    "        p = self.rng.uniform()\n",
    "        \n",
    "        # Assume action space is relatively small, so a linear search is not very inefficient\n",
    "        # Otherwise, replace with a binary search\n",
    "        for i in xrange(0, self.num_actions):\n",
    "            if p < q[i]:\n",
    "                return i\n",
    "            p -= q[i]\n",
    "\n",
    "        return self.num_actions - 1\n",
    "    \n",
    "    def soft_q_distribution(self, x, y):\n",
    "        values = self.q_table[x, y, :]\n",
    "        values = np.exp(values - np.max(values))\n",
    "        return values / np.sum(values)\n",
    "    \n",
    "    def update(self, x, y, a, v, alpha = 1.0):\n",
    "        u = self.q_table[x, y, a]\n",
    "        self.q_table[x, y, a] = (1.0 - alpha) * u + alpha * v\n",
    "        \n",
    "    def copy(self):\n",
    "        return TabularQFunction(self.q_table, self.rng)\n",
    "    \n",
    "    @staticmethod\n",
    "    def zeros(q_function):\n",
    "        return TabularQFunction(np.zeros(q_function.q_table.shape), q_function.rng)\n",
    "    \n",
    "    @staticmethod\n",
    "    def from_maze_zeros(maze, rng):\n",
    "        \"\"\"Q-function for maze environment initialized to all zeros\"\"\"\n",
    "        shape = (maze.observation_space.nvec[0], maze.observation_space.nvec[1], maze.action_space.n)\n",
    "        q_table = np.zeros(shape)\n",
    "        return TabularQFunction(q_table, rng)\n",
    "    \n",
    "    @staticmethod\n",
    "    def from_maze_normal(maze, rng):\n",
    "        \"\"\"Q function for maze environment initialized with standard normal distribution\"\"\"\n",
    "        shape = (maze.observation_space.nvec[0], maze.observation_space.nvec[1], maze.action_space.n)\n",
    "        q_table = rng.normal(0.0, 1.0, size = shape)\n",
    "        return TabularQFunction(q_table, rng)\n",
    "        "
   ]
  },
  {
   "cell_type": "code",
   "execution_count": 15,
   "metadata": {},
   "outputs": [],
   "source": [
    "class QLearner:\n",
    "    def __init__(self, policy, alpha = 0.1, gamma = 0.5):\n",
    "        # Q-function being learned\n",
    "        self.q = policy\n",
    "        \n",
    "        # Learning rate\n",
    "        self.alpha = alpha\n",
    "        \n",
    "        # Discount rate\n",
    "        self.gamma = gamma\n",
    "        \n",
    "    def update(self, state, action, reward, next_state):\n",
    "        t = self.target(reward, next_state)\n",
    "        self.q.update(state[0], state[1], action, t, self.alpha)\n",
    "        return self\n",
    "        \n",
    "    def update_trajectory(self, trajectory):\n",
    "        \"\"\"Trajectory is a sequence of (state, action, reward) tuples.\"\"\"\n",
    "        next_state = trajectory[-1][0]\n",
    "        for (state, action, reward) in reversed(trajectory[0:-1]):\n",
    "            self.update(state, action, reward, next_state)\n",
    "            next_state = state\n",
    "        return self\n",
    "    \n",
    "    def target(self, reward, next_state):\n",
    "        future_rewards = self.gamma * self.q.max_q(*next_state) if next_state else 0.0\n",
    "        return reward + future_rewards\n",
    "        \n",
    "        "
   ]
  },
  {
   "cell_type": "code",
   "execution_count": 16,
   "metadata": {},
   "outputs": [],
   "source": [
    "qf = TabularQFunction.from_maze_zeros(maze5x5, rng)"
   ]
  },
  {
   "cell_type": "code",
   "execution_count": 17,
   "metadata": {},
   "outputs": [
    {
     "data": {
      "text/plain": [
       "array([0.25, 0.25, 0.25, 0.25])"
      ]
     },
     "execution_count": 17,
     "metadata": {},
     "output_type": "execute_result"
    }
   ],
   "source": [
    "qf.soft_q_distribution(0, 0)"
   ]
  },
  {
   "cell_type": "code",
   "execution_count": 18,
   "metadata": {},
   "outputs": [],
   "source": [
    "from collections import Counter"
   ]
  },
  {
   "cell_type": "code",
   "execution_count": 19,
   "metadata": {},
   "outputs": [],
   "source": [
    "def sample_trajectory(env, policy):\n",
    "    state= env.reset()\n",
    "    done = False\n",
    "    trajectory = [ ]\n",
    "    while not done:\n",
    "        action = policy(*state)\n",
    "        next_state, reward, done, _ = env.step(action)\n",
    "        trajectory.append((state, action, reward))\n",
    "        state = next_state\n",
    "        \n",
    "    trajectory.append((state, None, 0.0))\n",
    "    return trajectory"
   ]
  },
  {
   "cell_type": "code",
   "execution_count": 20,
   "metadata": {},
   "outputs": [],
   "source": [
    "t = sample_trajectory(maze5x5, lambda x, y: qf.select_soft(x, y))"
   ]
  },
  {
   "cell_type": "code",
   "execution_count": 21,
   "metadata": {},
   "outputs": [
    {
     "data": {
      "text/plain": [
       "1193"
      ]
     },
     "execution_count": 21,
     "metadata": {},
     "output_type": "execute_result"
    }
   ],
   "source": [
    "len(t)"
   ]
  },
  {
   "cell_type": "code",
   "execution_count": 22,
   "metadata": {},
   "outputs": [
    {
     "data": {
      "text/plain": [
       "-3507.0"
      ]
     },
     "execution_count": 22,
     "metadata": {},
     "output_type": "execute_result"
    }
   ],
   "source": [
    "sum(x[2] for x in t)"
   ]
  },
  {
   "cell_type": "code",
   "execution_count": 23,
   "metadata": {},
   "outputs": [],
   "source": [
    "import time"
   ]
  },
  {
   "cell_type": "code",
   "execution_count": 24,
   "metadata": {},
   "outputs": [],
   "source": [
    "def plot_trajectory(env, trajectory, delay = 0.5):\n",
    "    for (state, action, reward) in trajectory:\n",
    "        env.teleport(*state)\n",
    "        env.render('human')\n",
    "        time.sleep(delay)"
   ]
  },
  {
   "cell_type": "code",
   "execution_count": 25,
   "metadata": {},
   "outputs": [],
   "source": [
    "plot_trajectory(maze5x5, t, 0.1)"
   ]
  },
  {
   "cell_type": "code",
   "execution_count": 26,
   "metadata": {},
   "outputs": [],
   "source": [
    "learner = QLearner(qf, 1.0)"
   ]
  },
  {
   "cell_type": "code",
   "execution_count": 27,
   "metadata": {},
   "outputs": [
    {
     "data": {
      "text/plain": [
       "<__main__.QLearner instance at 0x7fbd5cef3200>"
      ]
     },
     "execution_count": 27,
     "metadata": {},
     "output_type": "execute_result"
    }
   ],
   "source": [
    "learner.update_trajectory(t)"
   ]
  },
  {
   "cell_type": "code",
   "execution_count": 28,
   "metadata": {},
   "outputs": [],
   "source": [
    "def dump_action_distribution(qf):\n",
    "    print ' X   Y  ACTION   NORTH    EAST     SOUTH    WEST'\n",
    "    print '--- --- ------ -------- -------- -------- --------'\n",
    "    for x in xrange(0, qf.q_table.shape[0]):\n",
    "        for y in xrange(0, qf.q_table.shape[1]):\n",
    "            a = qf.select_hard(x, y)\n",
    "            p = qf.soft_q_distribution(x, y)\n",
    "            print '%3d %3d %6d %8.6f %8.6f %8.6f %8.6f' % (x, y, a, p[0], p[1], p[2], p[3])"
   ]
  },
  {
   "cell_type": "code",
   "execution_count": 29,
   "metadata": {},
   "outputs": [
    {
     "name": "stdout",
     "output_type": "stream",
     "text": [
      " X   Y  ACTION   NORTH    EAST     SOUTH    WEST\n",
      "--- --- ------ -------- -------- -------- --------\n",
      "  0   0      0 0.952619 0.015794 0.015794 0.015794\n",
      "  0   1      0 0.564429 0.008471 0.418630 0.008471\n",
      "  0   2      0 0.635045 0.007809 0.349338 0.007809\n",
      "  0   3      0 0.758081 0.006258 0.229402 0.006258\n",
      "  0   4      1 0.003386 0.909906 0.083322 0.003386\n",
      "  1   0      0 0.547162 0.416259 0.018289 0.018289\n",
      "  1   1      0 0.635045 0.007809 0.349338 0.007809\n",
      "  1   2      0 0.758081 0.006258 0.229402 0.006258\n",
      "  1   3      0 0.909906 0.003386 0.083322 0.003386\n",
      "  1   4      1 0.000743 0.982775 0.008241 0.008241\n",
      "  2   0      3 0.008684 0.445390 0.008684 0.537243\n",
      "  2   1      0 0.990200 0.008303 0.000749 0.000749\n",
      "  2   2      0 0.999867 0.000031 0.000070 0.000031\n",
      "  2   3      1 0.000000 1.000000 0.000000 0.000000\n",
      "  2   4      2 0.000031 0.000031 0.999867 0.000070\n",
      "  3   0      3 0.016361 0.016361 0.016361 0.950916\n",
      "  3   1      3 0.003680 0.003680 0.003680 0.988960\n",
      "  3   2      0 0.250000 0.250000 0.250000 0.250000\n",
      "  3   3      0 1.000000 0.000000 0.000000 0.000000\n",
      "  3   4      1 0.000000 1.000000 0.000000 0.000000\n",
      "  4   0      0 0.250000 0.250000 0.250000 0.250000\n",
      "  4   1      0 0.250000 0.250000 0.250000 0.250000\n",
      "  4   2      0 0.250000 0.250000 0.250000 0.250000\n",
      "  4   3      0 0.250000 0.250000 0.250000 0.250000\n",
      "  4   4      0 0.250000 0.250000 0.250000 0.250000\n"
     ]
    }
   ],
   "source": [
    "dump_action_distribution(qf)"
   ]
  },
  {
   "cell_type": "code",
   "execution_count": 30,
   "metadata": {},
   "outputs": [],
   "source": [
    "rewards = [ ]"
   ]
  },
  {
   "cell_type": "code",
   "execution_count": 31,
   "metadata": {},
   "outputs": [],
   "source": [
    "rewards.append(sum(x[2] for x in t))"
   ]
  },
  {
   "cell_type": "code",
   "execution_count": 32,
   "metadata": {},
   "outputs": [],
   "source": [
    "rewards.append(sum(x[2] for x in t))"
   ]
  },
  {
   "cell_type": "code",
   "execution_count": 33,
   "metadata": {},
   "outputs": [],
   "source": [
    "t = sample_trajectory(maze5x5, lambda x, y: qf.select_soft(x, y))"
   ]
  },
  {
   "cell_type": "code",
   "execution_count": 34,
   "metadata": {},
   "outputs": [
    {
     "data": {
      "text/plain": [
       "11"
      ]
     },
     "execution_count": 34,
     "metadata": {},
     "output_type": "execute_result"
    }
   ],
   "source": [
    "len(t)"
   ]
  },
  {
   "cell_type": "code",
   "execution_count": 35,
   "metadata": {},
   "outputs": [],
   "source": [
    "rewards.append(sum(x[2] for x in t))"
   ]
  },
  {
   "cell_type": "code",
   "execution_count": 36,
   "metadata": {},
   "outputs": [
    {
     "data": {
      "text/plain": [
       "[-3507.0, -3507.0, 91.0]"
      ]
     },
     "execution_count": 36,
     "metadata": {},
     "output_type": "execute_result"
    }
   ],
   "source": [
    "rewards"
   ]
  },
  {
   "cell_type": "code",
   "execution_count": 37,
   "metadata": {},
   "outputs": [],
   "source": [
    "plot_trajectory(maze5x5, t, delay = 0.5)"
   ]
  },
  {
   "cell_type": "code",
   "execution_count": 38,
   "metadata": {},
   "outputs": [
    {
     "data": {
      "text/plain": [
       "<__main__.QLearner instance at 0x7fbd5cef3200>"
      ]
     },
     "execution_count": 38,
     "metadata": {},
     "output_type": "execute_result"
    }
   ],
   "source": [
    "learner.update_trajectory(t)"
   ]
  },
  {
   "cell_type": "code",
   "execution_count": 39,
   "metadata": {},
   "outputs": [
    {
     "name": "stdout",
     "output_type": "stream",
     "text": [
      " X   Y  ACTION   NORTH    EAST     SOUTH    WEST\n",
      "--- --- ------ -------- -------- -------- --------\n",
      "  0   0      0 0.952619 0.015794 0.015794 0.015794\n",
      "  0   1      0 0.564429 0.008471 0.418630 0.008471\n",
      "  0   2      0 0.635045 0.007809 0.349338 0.007809\n",
      "  0   3      0 0.758081 0.006258 0.229402 0.006258\n",
      "  0   4      1 0.003386 0.909906 0.083322 0.003386\n",
      "  1   0      0 0.547162 0.416259 0.018289 0.018289\n",
      "  1   1      0 0.635045 0.007809 0.349338 0.007809\n",
      "  1   2      0 0.758081 0.006258 0.229402 0.006258\n",
      "  1   3      0 0.909906 0.003386 0.083322 0.003386\n",
      "  1   4      1 0.000743 0.982775 0.008241 0.008241\n",
      "  2   0      3 0.008684 0.445390 0.008684 0.537243\n",
      "  2   1      0 0.990200 0.008303 0.000749 0.000749\n",
      "  2   2      0 0.999867 0.000031 0.000070 0.000031\n",
      "  2   3      1 0.000000 1.000000 0.000000 0.000000\n",
      "  2   4      2 0.000031 0.000031 0.999867 0.000070\n",
      "  3   0      3 0.016361 0.016361 0.016361 0.950916\n",
      "  3   1      3 0.003680 0.003680 0.003680 0.988960\n",
      "  3   2      0 0.250000 0.250000 0.250000 0.250000\n",
      "  3   3      0 1.000000 0.000000 0.000000 0.000000\n",
      "  3   4      1 0.000000 1.000000 0.000000 0.000000\n",
      "  4   0      0 0.250000 0.250000 0.250000 0.250000\n",
      "  4   1      0 0.250000 0.250000 0.250000 0.250000\n",
      "  4   2      0 0.250000 0.250000 0.250000 0.250000\n",
      "  4   3      0 0.250000 0.250000 0.250000 0.250000\n",
      "  4   4      0 0.250000 0.250000 0.250000 0.250000\n"
     ]
    }
   ],
   "source": [
    "dump_action_distribution(qf)"
   ]
  },
  {
   "cell_type": "code",
   "execution_count": 40,
   "metadata": {},
   "outputs": [
    {
     "data": {
      "text/plain": [
       "10"
      ]
     },
     "execution_count": 40,
     "metadata": {},
     "output_type": "execute_result"
    }
   ],
   "source": [
    "maze5x5.compute_solution_length()"
   ]
  },
  {
   "cell_type": "code",
   "execution_count": 41,
   "metadata": {},
   "outputs": [],
   "source": [
    "t = sample_trajectory(maze5x5, lambda x, y: qf.select_soft(x, y))"
   ]
  },
  {
   "cell_type": "code",
   "execution_count": 42,
   "metadata": {},
   "outputs": [
    {
     "data": {
      "text/plain": [
       "13"
      ]
     },
     "execution_count": 42,
     "metadata": {},
     "output_type": "execute_result"
    }
   ],
   "source": [
    "len(t)"
   ]
  },
  {
   "cell_type": "code",
   "execution_count": 43,
   "metadata": {},
   "outputs": [],
   "source": [
    "rewards.append(sum(x[2] for x in t))"
   ]
  },
  {
   "cell_type": "code",
   "execution_count": 44,
   "metadata": {},
   "outputs": [],
   "source": [
    "plot_trajectory(maze5x5, t, delay = 0.5)"
   ]
  },
  {
   "cell_type": "code",
   "execution_count": 45,
   "metadata": {},
   "outputs": [
    {
     "data": {
      "text/plain": [
       "[((0, 0), 0, -1.0),\n",
       " ((0, 1), 0, -1.0),\n",
       " ((0, 2), 0, -1.0),\n",
       " ((0, 3), 0, -1.0),\n",
       " ((0, 4), 1, -1.0),\n",
       " ((1, 4), 3, -1.0),\n",
       " ((0, 4), 1, -1.0),\n",
       " ((1, 4), 1, -1.0),\n",
       " ((2, 4), 2, -1.0),\n",
       " ((2, 3), 1, -1.0),\n",
       " ((3, 3), 0, -1.0),\n",
       " ((3, 4), 1, 100.0),\n",
       " ((4, 4), None, 0.0)]"
      ]
     },
     "execution_count": 45,
     "metadata": {},
     "output_type": "execute_result"
    }
   ],
   "source": [
    "t"
   ]
  },
  {
   "cell_type": "code",
   "execution_count": 46,
   "metadata": {},
   "outputs": [
    {
     "data": {
      "text/plain": [
       "<__main__.QLearner instance at 0x7fbd5cef3200>"
      ]
     },
     "execution_count": 46,
     "metadata": {},
     "output_type": "execute_result"
    }
   ],
   "source": [
    "learner.update_trajectory(t)"
   ]
  },
  {
   "cell_type": "code",
   "execution_count": 47,
   "metadata": {},
   "outputs": [
    {
     "name": "stdout",
     "output_type": "stream",
     "text": [
      " X   Y  ACTION   NORTH    EAST     SOUTH    WEST\n",
      "--- --- ------ -------- -------- -------- --------\n",
      "  0   0      0 0.952619 0.015794 0.015794 0.015794\n",
      "  0   1      0 0.564429 0.008471 0.418630 0.008471\n",
      "  0   2      0 0.635045 0.007809 0.349338 0.007809\n",
      "  0   3      0 0.758081 0.006258 0.229402 0.006258\n",
      "  0   4      1 0.003386 0.909906 0.083322 0.003386\n",
      "  1   0      0 0.547162 0.416259 0.018289 0.018289\n",
      "  1   1      0 0.635045 0.007809 0.349338 0.007809\n",
      "  1   2      0 0.758081 0.006258 0.229402 0.006258\n",
      "  1   3      0 0.909906 0.003386 0.083322 0.003386\n",
      "  1   4      1 0.000743 0.982775 0.008241 0.008241\n",
      "  2   0      3 0.008684 0.445390 0.008684 0.537243\n",
      "  2   1      0 0.990200 0.008303 0.000749 0.000749\n",
      "  2   2      0 0.999867 0.000031 0.000070 0.000031\n",
      "  2   3      1 0.000000 1.000000 0.000000 0.000000\n",
      "  2   4      2 0.000031 0.000031 0.999867 0.000070\n",
      "  3   0      3 0.016361 0.016361 0.016361 0.950916\n",
      "  3   1      3 0.003680 0.003680 0.003680 0.988960\n",
      "  3   2      0 0.250000 0.250000 0.250000 0.250000\n",
      "  3   3      0 1.000000 0.000000 0.000000 0.000000\n",
      "  3   4      1 0.000000 1.000000 0.000000 0.000000\n",
      "  4   0      0 0.250000 0.250000 0.250000 0.250000\n",
      "  4   1      0 0.250000 0.250000 0.250000 0.250000\n",
      "  4   2      0 0.250000 0.250000 0.250000 0.250000\n",
      "  4   3      0 0.250000 0.250000 0.250000 0.250000\n",
      "  4   4      0 0.250000 0.250000 0.250000 0.250000\n"
     ]
    }
   ],
   "source": [
    "dump_action_distribution(qf)"
   ]
  },
  {
   "cell_type": "code",
   "execution_count": 48,
   "metadata": {},
   "outputs": [],
   "source": [
    "t = sample_trajectory(maze5x5, lambda x, y: qf.select_soft(x, y))"
   ]
  },
  {
   "cell_type": "code",
   "execution_count": 49,
   "metadata": {},
   "outputs": [
    {
     "data": {
      "text/plain": [
       "17"
      ]
     },
     "execution_count": 49,
     "metadata": {},
     "output_type": "execute_result"
    }
   ],
   "source": [
    "len(t)"
   ]
  },
  {
   "cell_type": "code",
   "execution_count": 50,
   "metadata": {},
   "outputs": [],
   "source": [
    "rewards.append(sum(x[2] for x in t))"
   ]
  },
  {
   "cell_type": "code",
   "execution_count": 51,
   "metadata": {},
   "outputs": [],
   "source": [
    "plot_trajectory(maze5x5, t, delay = 0.5)"
   ]
  },
  {
   "cell_type": "code",
   "execution_count": 52,
   "metadata": {},
   "outputs": [
    {
     "data": {
      "text/plain": [
       "[-3507.0, -3507.0, 91.0, 89.0, 85.0]"
      ]
     },
     "execution_count": 52,
     "metadata": {},
     "output_type": "execute_result"
    }
   ],
   "source": [
    "rewards"
   ]
  },
  {
   "cell_type": "code",
   "execution_count": 53,
   "metadata": {},
   "outputs": [
    {
     "data": {
      "text/plain": [
       "<__main__.QLearner instance at 0x7fbd5cef3200>"
      ]
     },
     "execution_count": 53,
     "metadata": {},
     "output_type": "execute_result"
    }
   ],
   "source": [
    "learner.update_trajectory(t)"
   ]
  },
  {
   "cell_type": "code",
   "execution_count": 54,
   "metadata": {},
   "outputs": [
    {
     "name": "stdout",
     "output_type": "stream",
     "text": [
      " X   Y  ACTION   NORTH    EAST     SOUTH    WEST\n",
      "--- --- ------ -------- -------- -------- --------\n",
      "  0   0      0 0.952619 0.015794 0.015794 0.015794\n",
      "  0   1      0 0.564429 0.008471 0.418630 0.008471\n",
      "  0   2      0 0.635045 0.007809 0.349338 0.007809\n",
      "  0   3      0 0.758081 0.006258 0.229402 0.006258\n",
      "  0   4      1 0.003386 0.909906 0.083322 0.003386\n",
      "  1   0      0 0.547162 0.416259 0.018289 0.018289\n",
      "  1   1      0 0.635045 0.007809 0.349338 0.007809\n",
      "  1   2      0 0.758081 0.006258 0.229402 0.006258\n",
      "  1   3      0 0.909906 0.003386 0.083322 0.003386\n",
      "  1   4      1 0.000743 0.982775 0.008241 0.008241\n",
      "  2   0      3 0.008684 0.445390 0.008684 0.537243\n",
      "  2   1      0 0.990200 0.008303 0.000749 0.000749\n",
      "  2   2      0 0.999867 0.000031 0.000070 0.000031\n",
      "  2   3      1 0.000000 1.000000 0.000000 0.000000\n",
      "  2   4      2 0.000031 0.000031 0.999867 0.000070\n",
      "  3   0      3 0.016361 0.016361 0.016361 0.950916\n",
      "  3   1      3 0.003680 0.003680 0.003680 0.988960\n",
      "  3   2      0 0.250000 0.250000 0.250000 0.250000\n",
      "  3   3      0 1.000000 0.000000 0.000000 0.000000\n",
      "  3   4      1 0.000000 1.000000 0.000000 0.000000\n",
      "  4   0      0 0.250000 0.250000 0.250000 0.250000\n",
      "  4   1      0 0.250000 0.250000 0.250000 0.250000\n",
      "  4   2      0 0.250000 0.250000 0.250000 0.250000\n",
      "  4   3      0 0.250000 0.250000 0.250000 0.250000\n",
      "  4   4      0 0.250000 0.250000 0.250000 0.250000\n"
     ]
    }
   ],
   "source": [
    "dump_action_distribution(qf)"
   ]
  },
  {
   "cell_type": "code",
   "execution_count": 55,
   "metadata": {},
   "outputs": [
    {
     "data": {
      "text/plain": [
       "[((0, 0), 0, -1.0),\n",
       " ((0, 1), 0, -1.0),\n",
       " ((0, 2), 2, -1.0),\n",
       " ((0, 1), 2, -1.0),\n",
       " ((0, 0), 0, -1.0),\n",
       " ((0, 1), 0, -1.0),\n",
       " ((0, 2), 0, -1.0),\n",
       " ((0, 3), 2, -1.0),\n",
       " ((0, 2), 0, -1.0),\n",
       " ((0, 3), 0, -1.0),\n",
       " ((0, 4), 1, -1.0),\n",
       " ((1, 4), 1, -1.0),\n",
       " ((2, 4), 2, -1.0),\n",
       " ((2, 3), 1, -1.0),\n",
       " ((3, 3), 0, -1.0),\n",
       " ((3, 4), 1, 100.0),\n",
       " ((4, 4), None, 0.0)]"
      ]
     },
     "execution_count": 55,
     "metadata": {},
     "output_type": "execute_result"
    }
   ],
   "source": [
    "t"
   ]
  },
  {
   "cell_type": "code",
   "execution_count": 56,
   "metadata": {},
   "outputs": [],
   "source": [
    "t = sample_trajectory(maze5x5, lambda x, y: qf.select_soft(x, y))"
   ]
  },
  {
   "cell_type": "code",
   "execution_count": 57,
   "metadata": {},
   "outputs": [
    {
     "data": {
      "text/plain": [
       "[((0, 0), 0, -1.0),\n",
       " ((0, 1), 2, -1.0),\n",
       " ((0, 0), 0, -1.0),\n",
       " ((0, 1), 2, -1.0),\n",
       " ((0, 0), 0, -1.0),\n",
       " ((0, 1), 0, -1.0),\n",
       " ((0, 2), 0, -1.0),\n",
       " ((0, 3), 0, -1.0),\n",
       " ((0, 4), 1, -1.0),\n",
       " ((1, 4), 1, -1.0),\n",
       " ((2, 4), 2, -1.0),\n",
       " ((2, 3), 1, -1.0),\n",
       " ((3, 3), 0, -1.0),\n",
       " ((3, 4), 1, 100.0),\n",
       " ((4, 4), None, 0.0)]"
      ]
     },
     "execution_count": 57,
     "metadata": {},
     "output_type": "execute_result"
    }
   ],
   "source": [
    "t"
   ]
  },
  {
   "cell_type": "code",
   "execution_count": 58,
   "metadata": {},
   "outputs": [],
   "source": [
    "def learn(env, policy, num_iterations, alpha = 0.1, gamma = 0.5):\n",
    "    learner = QLearner(policy, alpha, gamma)\n",
    "    trajectories = [ ]\n",
    "    for i in xrange(0, num_iterations):\n",
    "        t = sample_trajectory(env, lambda x, y: policy.select_soft(x, y))\n",
    "        trajectories.append((t, sum(x[2] for x in t)))\n",
    "        learner.update_trajectory(t)\n",
    "    return trajectories"
   ]
  },
  {
   "cell_type": "code",
   "execution_count": 59,
   "metadata": {},
   "outputs": [],
   "source": [
    "maze16x16 = FixedMazeEnvironment(width = 16, height = 16, goal = (15, 15), rng = rng, seed = seed,\n",
    "                                 agent_image = '/home/tomault/projects/pegushi/src/resources/penguin24x24.png')"
   ]
  },
  {
   "cell_type": "code",
   "execution_count": 60,
   "metadata": {},
   "outputs": [],
   "source": [
    "policy_16x16 = TabularQFunction.from_maze_zeros(maze16x16, rng)\n",
    "trajectories_16x16 = learn(maze16x16, policy_16x16, 1000, 1.0, 0.99)"
   ]
  },
  {
   "cell_type": "code",
   "execution_count": 61,
   "metadata": {},
   "outputs": [],
   "source": [
    "rewards_16x16 = [x[1] for x in trajectories_16x16]"
   ]
  },
  {
   "cell_type": "code",
   "execution_count": 62,
   "metadata": {},
   "outputs": [],
   "source": [
    "import matplotlib.pyplot as plt"
   ]
  },
  {
   "cell_type": "code",
   "execution_count": 63,
   "metadata": {},
   "outputs": [
    {
     "data": {
      "image/png": "[encoded data removed]",
      "text/plain": [
       "<matplotlib.figure.Figure at 0x7fbda803f550>"
      ]
     },
     "metadata": {},
     "output_type": "display_data"
    },
    {
     "data": {
      "image/png": "[encoded data removed]",
      "text/plain": [
       "<matplotlib.figure.Figure at 0x7fbdb0a9e250>"
      ]
     },
     "metadata": {},
     "output_type": "display_data"
    }
   ],
   "source": [
    "plt.plot(rewards_16x16)\n",
    "plt.xlabel('Episode')\n",
    "plt.ylabel('Total Reward')\n",
    "plt.show()\n",
    "\n",
    "plt.plot(list(len(x[0]) for x in trajectories_16x16))\n",
    "plt.xlabel('Episode')\n",
    "plt.ylabel('Path length')\n",
    "plt.show()"
   ]
  },
  {
   "cell_type": "code",
   "execution_count": 64,
   "metadata": {},
   "outputs": [],
   "source": [
    "policy_5x5 = TabularQFunction.from_maze_zeros(maze5x5, rng)\n",
    "trajectories_5x5 = learn(maze5x5, policy_5x5, 20, 1.0)"
   ]
  },
  {
   "cell_type": "code",
   "execution_count": 65,
   "metadata": {},
   "outputs": [
    {
     "data": {
      "text/plain": [
       "[-1529.0,\n",
       " 80.0,\n",
       " 91.0,\n",
       " 91.0,\n",
       " 87.0,\n",
       " 81.0,\n",
       " 67.0,\n",
       " 75.0,\n",
       " 86.0,\n",
       " 85.0,\n",
       " 87.0,\n",
       " 89.0,\n",
       " 75.0,\n",
       " 87.0,\n",
       " 75.0,\n",
       " 75.0,\n",
       " 87.0,\n",
       " 91.0,\n",
       " 83.0,\n",
       " 89.0]"
      ]
     },
     "execution_count": 65,
     "metadata": {},
     "output_type": "execute_result"
    }
   ],
   "source": [
    "[x[1] for x in trajectories_5x5]"
   ]
  },
  {
   "cell_type": "code",
   "execution_count": 66,
   "metadata": {},
   "outputs": [],
   "source": [
    "maze5x5.close()"
   ]
  },
  {
   "cell_type": "code",
   "execution_count": 67,
   "metadata": {},
   "outputs": [],
   "source": [
    "maze16x16.render('human')"
   ]
  },
  {
   "cell_type": "code",
   "execution_count": 68,
   "metadata": {},
   "outputs": [
    {
     "data": {
      "text/plain": [
       "64"
      ]
     },
     "execution_count": 68,
     "metadata": {},
     "output_type": "execute_result"
    }
   ],
   "source": [
    "maze16x16.compute_solution_length()"
   ]
  },
  {
   "cell_type": "code",
   "execution_count": 69,
   "metadata": {},
   "outputs": [],
   "source": [
    "plot_trajectory(maze16x16, trajectories_16x16[-2][0], 0.1)"
   ]
  },
  {
   "cell_type": "code",
   "execution_count": 70,
   "metadata": {},
   "outputs": [
    {
     "data": {
      "text/plain": [
       "[10001,\n",
       " 8775,\n",
       " 69,\n",
       " 67,\n",
       " 69,\n",
       " 71,\n",
       " 73,\n",
       " 75,\n",
       " 71,\n",
       " 75,\n",
       " 71,\n",
       " 71,\n",
       " 69,\n",
       " 65,\n",
       " 74,\n",
       " 65,\n",
       " 76,\n",
       " 69,\n",
       " 71,\n",
       " 65,\n",
       " 81,\n",
       " 68,\n",
       " 77,\n",
       " 71,\n",
       " 69,\n",
       " 79,\n",
       " 67,\n",
       " 84,\n",
       " 71,\n",
       " 71,\n",
       " 69,\n",
       " 73,\n",
       " 68,\n",
       " 69,\n",
       " 67,\n",
       " 77,\n",
       " 71,\n",
       " 75,\n",
       " 71,\n",
       " 67,\n",
       " 69,\n",
       " 75,\n",
       " 71,\n",
       " 69,\n",
       " 78,\n",
       " 81,\n",
       " 69,\n",
       " 72,\n",
       " 67,\n",
       " 71]"
      ]
     },
     "execution_count": 70,
     "metadata": {},
     "output_type": "execute_result"
    }
   ],
   "source": [
    "[ len(trajectories_16x16[i][0]) for i in xrange(0, 50) ]"
   ]
  },
  {
   "cell_type": "code",
   "execution_count": 71,
   "metadata": {},
   "outputs": [],
   "source": [
    "import matplotlib.pyplot as plt"
   ]
  },
  {
   "cell_type": "code",
   "execution_count": 72,
   "metadata": {},
   "outputs": [
    {
     "name": "stdout",
     "output_type": "stream",
     "text": [
      " X   Y  ACTION   NORTH    EAST     SOUTH    WEST\n",
      "--- --- ------ -------- -------- -------- --------\n",
      "  0   0      0 1.000000 0.000000 0.000000 0.000000\n",
      "  0   1      1 0.000000 1.000000 0.000000 0.000000\n",
      "  0   2      0 0.908038 0.091962 0.000000 0.000000\n",
      "  0   3      1 0.082217 0.830808 0.082217 0.004759\n",
      "  0   4      2 0.091004 0.005208 0.898581 0.005208\n",
      "  0   5      2 0.005761 0.005761 0.982717 0.005761\n",
      "  0   6      1 0.043840 0.942440 0.006860 0.006860\n",
      "  0   7      1 0.007059 0.978823 0.007059 0.007059\n",
      "  0   8      0 0.979018 0.006994 0.006994 0.006994\n",
      "  0   9      0 1.000000 0.000000 0.000000 0.000000\n",
      "  0  10      0 1.000000 0.000000 0.000000 0.000000\n",
      "  0  11      0 1.000000 0.000000 0.000000 0.000000\n",
      "  0  12      1 0.000000 1.000000 0.000000 0.000000\n",
      "  0  13      0 0.986163 0.004612 0.004612 0.004612\n",
      "  0  14      1 0.004297 0.931499 0.059907 0.004297\n",
      "  0  15      1 0.004612 0.986163 0.004612 0.004612\n",
      "  1   0      1 0.000000 1.000000 0.000000 0.000000\n",
      "  1   1      2 0.000000 0.000000 1.000000 0.000000\n",
      "  1   2      3 0.000000 0.093892 0.000000 0.906108\n",
      "  1   3      1 0.000000 0.911848 0.000000 0.088152\n",
      "  1   4      1 0.000000 0.994436 0.005564 0.000000\n",
      "  1   5      0 0.908832 0.042276 0.042276 0.006616\n",
      "  1   6      0 0.735336 0.034529 0.115067 0.115067\n",
      "  1   7      0 0.316515 0.050456 0.316515 0.316515\n",
      "  1   8      0 0.928082 0.071918 0.000000 0.000000\n",
      "  1   9      3 0.000000 0.000000 0.000000 1.000000\n",
      "  1  10      0 0.486815 0.022859 0.486815 0.003511\n",
      "  1  11      2 0.006994 0.006994 0.979018 0.006994\n",
      "  1  12      0 0.995345 0.000000 0.004655 0.000000\n",
      "  1  13      0 0.931499 0.004297 0.059907 0.004297\n",
      "  1  14      1 0.052670 0.841990 0.052670 0.052670\n",
      "  1  15      2 0.004297 0.004297 0.931499 0.059907\n",
      "  2   0      0 1.000000 0.000000 0.000000 0.000000\n",
      "  2   1      0 1.000000 0.000000 0.000000 0.000000\n",
      "  2   2      3 0.000000 0.000000 0.000000 1.000000\n",
      "  2   3      0 0.913726 0.000000 0.000000 0.086274\n",
      "  2   4      0 0.844316 0.000000 0.077842 0.077842\n",
      "  2   5      0 1.000000 0.000000 0.000000 0.000000\n",
      "  2   6      1 0.000000 1.000000 0.000000 0.000000\n",
      "  2   7      3 0.007188 0.007188 0.007188 0.978435\n",
      "  2   8      3 0.000000 0.073295 0.004731 0.921974\n",
      "  2   9      0 0.829436 0.005869 0.039700 0.124995\n",
      "  2  10      1 0.003410 0.486538 0.486538 0.023514\n",
      "  2  11      0 0.986163 0.004612 0.004612 0.004612\n",
      "  2  12      0 0.882428 0.056751 0.056751 0.004071\n",
      "  2  13      0 0.933139 0.004245 0.058372 0.004245\n",
      "  2  14      0 0.887989 0.003983 0.054014 0.054014\n",
      "  2  15      1 0.004141 0.936351 0.055367 0.004141\n",
      "  3   0      3 0.007765 0.007765 0.007765 0.976704\n",
      "  3   1      3 0.135243 0.135243 0.005706 0.723809\n",
      "  3   2      2 0.007765 0.007765 0.976704 0.007765\n",
      "  3   3      1 0.007638 0.977086 0.007638 0.007638\n",
      "  3   4      1 0.007208 0.914317 0.039238 0.039238\n",
      "  3   5      3 0.007510 0.007510 0.007510 0.977470\n",
      "  3   6      0 1.000000 0.000000 0.000000 0.000000\n",
      "  3   7      0 1.000000 0.000000 0.000000 0.000000\n",
      "  3   8      3 0.000000 0.000000 0.000000 1.000000\n",
      "  3   9      0 0.979796 0.006735 0.006735 0.006735\n",
      "  3  10      2 0.003225 0.067389 0.464693 0.464693\n",
      "  3  11      1 0.045494 0.941312 0.006597 0.006597\n",
      "  3  12      3 0.004612 0.004612 0.004612 0.986163\n",
      "  3  13      1 0.051028 0.941003 0.003984 0.003984\n",
      "  3  14      2 0.050030 0.050030 0.896090 0.003850\n",
      "  3  15      2 0.004089 0.004089 0.937924 0.053898\n",
      "  4   0      1 0.007892 0.976323 0.007892 0.007892\n",
      "  4   1      3 0.007765 0.007765 0.007765 0.976704\n",
      "  4   2      1 0.037734 0.886798 0.037734 0.037734\n",
      "  4   3      1 0.020574 0.479426 0.020574 0.479426\n",
      "  4   4      1 0.035054 0.809840 0.006330 0.148775\n",
      "  4   5      0 0.977663 0.007446 0.007446 0.007446\n",
      "  4   6      3 0.005590 0.126916 0.126916 0.740578\n",
      "  4   7      1 0.007188 0.978435 0.007188 0.007188\n",
      "  4   8      3 0.037477 0.135704 0.006085 0.820734\n",
      "  4   9      1 0.007446 0.977663 0.007446 0.007446\n",
      "  4  10      3 0.127249 0.006032 0.006032 0.860687\n",
      "  4  11      0 0.328099 0.015704 0.328099 0.328099\n",
      "  4  12      2 0.006597 0.006597 0.941312 0.045494\n",
      "  4  13      1 0.003932 0.942509 0.003932 0.049627\n",
      "  4  14      3 0.053898 0.004089 0.004089 0.937924\n",
      "  4  15      2 0.004141 0.055367 0.936351 0.004141\n",
      "  5   0      0 0.826976 0.006630 0.006630 0.159764\n",
      "  5   1      0 0.720477 0.136897 0.136897 0.005728\n",
      "  5   2      0 0.723809 0.005706 0.135243 0.135243\n",
      "  5   3      0 0.727148 0.005684 0.133584 0.133584\n",
      "  5   4      0 0.730496 0.005661 0.131922 0.131922\n",
      "  5   5      0 0.838320 0.006441 0.148799 0.006441\n",
      "  5   6      3 0.006402 0.006402 0.146617 0.840579\n",
      "  5   7      3 0.140102 0.006282 0.006282 0.847333\n",
      "  5   8      2 0.077372 0.003438 0.459595 0.459595\n",
      "  5   9      2 0.208736 0.005066 0.671175 0.115022\n",
      "  5  10      0 0.639847 0.004844 0.350465 0.004844\n",
      "  5  11      1 0.449470 0.467813 0.079207 0.003510\n",
      "  5  12      0 0.987639 0.004120 0.004120 0.004120\n",
      "  5  13      1 0.003715 0.903887 0.046199 0.046199\n",
      "  5  14      0 0.986536 0.004488 0.004488 0.004488\n",
      "  5  15      3 0.004193 0.004193 0.056858 0.934756\n",
      "  6   0      0 0.824701 0.161966 0.006667 0.006667\n",
      "  6   1      3 0.006630 0.006630 0.159764 0.826976\n",
      "  6   2      0 0.250000 0.250000 0.250000 0.250000\n",
      "  6   3      0 0.250000 0.250000 0.250000 0.250000\n",
      "  6   4      0 0.250000 0.250000 0.250000 0.250000\n",
      "  6   5      0 0.250000 0.250000 0.250000 0.250000\n",
      "  6   6      0 0.250000 0.250000 0.250000 0.250000\n",
      "  6   7      1 0.039525 0.960475 0.000000 0.000000\n",
      "  6   8      2 0.000000 0.000000 1.000000 0.000000\n",
      "  6   9      0 0.989063 0.003646 0.003646 0.003646\n",
      "  6  10      1 0.003463 0.955019 0.038054 0.003463\n",
      "  6  11      0 0.541057 0.083094 0.083094 0.292754\n",
      "  6  12      0 0.943992 0.048249 0.003880 0.003880\n",
      "  6  13      0 0.906416 0.003670 0.044957 0.044957\n",
      "  6  14      1 0.043734 0.908909 0.043734 0.003624\n",
      "  6  15      2 0.003828 0.046894 0.945451 0.003828\n",
      "  7   0      3 0.006703 0.164169 0.006703 0.822425\n",
      "  7   1      0 0.250000 0.250000 0.250000 0.250000\n",
      "  7   2      0 0.250000 0.250000 0.250000 0.250000\n",
      "  7   3      0 0.250000 0.250000 0.250000 0.250000\n",
      "  7   4      0 0.250000 0.250000 0.250000 0.250000\n",
      "  7   5      0 0.250000 0.250000 0.250000 0.250000\n",
      "  7   6      0 0.250000 0.250000 0.250000 0.250000\n",
      "  7   7      0 0.955019 0.003463 0.003463 0.038054\n",
      "  7   8      1 0.003412 0.956292 0.036885 0.003412\n",
      "  7   9      1 0.035738 0.957541 0.003360 0.003360\n",
      "  7  10      2 0.003301 0.035690 0.925319 0.035690\n",
      "  7  11      0 0.987457 0.004181 0.004181 0.004181\n",
      "  7  12      3 0.003760 0.047459 0.047459 0.901323\n",
      "  7  13      0 0.988180 0.003940 0.003940 0.003940\n",
      "  7  14      1 0.003578 0.911365 0.042528 0.042528\n",
      "  7  15      3 0.003880 0.048249 0.003880 0.943992\n",
      "  8   0      3 0.006739 0.166374 0.006739 0.820148\n",
      "  8   1      0 0.250000 0.250000 0.250000 0.250000\n",
      "  8   2      0 0.250000 0.250000 0.250000 0.250000\n",
      "  8   3      0 0.250000 0.250000 0.250000 0.250000\n",
      "  8   4      0 0.250000 0.250000 0.250000 0.250000\n",
      "  8   5      0 0.250000 0.250000 0.250000 0.250000\n",
      "  8   6      0 0.250000 0.250000 0.250000 0.250000\n",
      "  8   7      0 0.989410 0.003530 0.003530 0.003530\n",
      "  8   8      0 0.899306 0.033565 0.033565 0.033565\n",
      "  8   9      1 0.003208 0.929663 0.033564 0.033564\n",
      "  8  10      3 0.003463 0.038054 0.003463 0.955019\n",
      "  8  11      1 0.004364 0.986907 0.004364 0.004364\n",
      "  8  12      3 0.003984 0.051028 0.003984 0.941003\n",
      "  8  13      1 0.041703 0.951059 0.003619 0.003619\n",
      "  8  14      2 0.003532 0.041341 0.913785 0.041341\n",
      "  8  15      3 0.003932 0.049627 0.003932 0.942509\n",
      "  9   0      3 0.168580 0.006774 0.006774 0.817872\n",
      "  9   1      2 0.008144 0.008144 0.975567 0.008144\n",
      "  9   2      0 0.953722 0.039247 0.003515 0.003515\n",
      "  9   3      0 0.955019 0.003463 0.038054 0.003463\n",
      "  9   4      1 0.003412 0.956292 0.036885 0.003412\n",
      "  9   5      0 0.250000 0.250000 0.250000 0.250000\n",
      "  9   6      0 0.250000 0.250000 0.250000 0.250000\n",
      "  9   7      0 0.250000 0.250000 0.250000 0.250000\n",
      "  9   8      3 0.003530 0.003530 0.003530 0.989410\n",
      "  9   9      1 0.003258 0.959970 0.003258 0.033515\n",
      "  9  10      3 0.003646 0.003646 0.003646 0.989063\n",
      "  9  11      0 0.937924 0.004089 0.004089 0.053898\n",
      "  9  12      3 0.004036 0.004036 0.052452 0.939475\n",
      "  9  13      1 0.003567 0.952402 0.003567 0.040464\n",
      "  9  14      3 0.003880 0.003880 0.003880 0.988359\n",
      "  9  15      3 0.004181 0.004181 0.004181 0.987457\n",
      " 10   0      0 0.988536 0.003821 0.003821 0.003821\n",
      " 10   1      0 0.916167 0.040173 0.040173 0.003486\n",
      " 10   2      3 0.039024 0.003440 0.039024 0.918512\n",
      " 10   3      2 0.003762 0.003762 0.988713 0.003762\n",
      " 10   4      0 0.957541 0.003360 0.003360 0.035738\n",
      " 10   5      0 0.958767 0.003309 0.034615 0.003309\n",
      " 10   6      0 0.959970 0.003258 0.033515 0.003258\n",
      " 10   7      1 0.003207 0.961149 0.032438 0.003207\n",
      " 10   8      0 0.989922 0.003359 0.003359 0.003359\n",
      " 10   9      1 0.030646 0.908061 0.030646 0.030646\n",
      " 10  10      2 0.033515 0.003258 0.959970 0.003258\n",
      " 10  11      2 0.003309 0.034615 0.958767 0.003309\n",
      " 10  12      0 0.988889 0.003704 0.003704 0.003704\n",
      " 10  13      1 0.000000 0.923955 0.038022 0.038022\n",
      " 10  14      0 0.250000 0.250000 0.250000 0.250000\n",
      " 10  15      0 0.250000 0.250000 0.250000 0.250000\n",
      " 11   0      0 0.988359 0.003880 0.003880 0.003880\n",
      " 11   1      3 0.003532 0.041341 0.041341 0.913785\n",
      " 11   2      1 0.004000 0.988001 0.004000 0.004000\n",
      " 11   3      0 0.987457 0.004181 0.004181 0.004181\n",
      " 11   4      1 0.003932 0.942509 0.049627 0.003932\n",
      " 11   5      0 0.989922 0.003359 0.003359 0.003359\n",
      " 11   6      1 0.003207 0.961149 0.032438 0.003207\n",
      " 11   7      1 0.003156 0.962305 0.003156 0.031384\n",
      " 11   8      1 0.030353 0.963437 0.003105 0.003105\n",
      " 11   9      2 0.003156 0.003156 0.962305 0.031384\n",
      " 11  10      0 0.989410 0.003530 0.003530 0.003530\n",
      " 11  11      3 0.033565 0.033565 0.033565 0.899306\n",
      " 11  12      2 0.036885 0.003412 0.956292 0.003412\n",
      " 11  13      2 0.036782 0.003348 0.923088 0.036782\n",
      " 11  14      2 0.000000 0.000000 1.000000 0.000000\n",
      " 11  15      0 0.250000 0.250000 0.250000 0.250000\n",
      " 12   0      0 0.946888 0.045561 0.003775 0.003775\n",
      " 12   1      3 0.040934 0.040934 0.040934 0.877198\n",
      " 12   2      2 0.043734 0.003624 0.908909 0.043734\n",
      " 12   3      2 0.044957 0.044957 0.906416 0.003670\n",
      " 12   4      2 0.046199 0.003715 0.903887 0.046199\n",
      " 12   5      2 0.004120 0.004120 0.987639 0.004120\n",
      " 12   6      0 0.962305 0.003156 0.003156 0.031384\n",
      " 12   7      1 0.003023 0.937881 0.029548 0.029548\n",
      " 12   8      1 0.003054 0.964546 0.003054 0.029345\n",
      " 12   9      1 0.003202 0.993596 0.000000 0.003202\n",
      " 12  10      0 0.955019 0.038054 0.003463 0.003463\n",
      " 12  11      3 0.000000 0.003424 0.037011 0.959566\n",
      " 12  12      0 0.250000 0.250000 0.250000 0.250000\n",
      " 12  13      0 0.250000 0.250000 0.250000 0.250000\n",
      " 12  14      0 0.250000 0.250000 0.250000 0.250000\n",
      " 12  15      0 0.250000 0.250000 0.250000 0.250000\n",
      " 13   0      3 0.003828 0.046894 0.003828 0.945451\n",
      " 13   1      3 0.000000 0.003956 0.003956 0.992089\n",
      " 13   2      0 0.250000 0.250000 0.250000 0.250000\n",
      " 13   3      3 0.048249 0.003880 0.003880 0.943992\n",
      " 13   4      2 0.049627 0.003932 0.942509 0.003932\n",
      " 13   5      2 0.048736 0.048736 0.898724 0.003805\n",
      " 13   6      2 0.004036 0.052452 0.939475 0.004036\n",
      " 13   7      0 0.964546 0.003054 0.003054 0.029345\n",
      " 13   8      1 0.026991 0.919027 0.026991 0.026991\n",
      " 13   9      2 0.003054 0.003054 0.964546 0.029345\n",
      " 13  10      3 0.003659 0.003659 0.000000 0.992682\n",
      " 13  11      0 0.250000 0.250000 0.250000 0.250000\n",
      " 13  12      0 0.250000 0.250000 0.250000 0.250000\n",
      " 13  13      0 0.250000 0.250000 0.250000 0.250000\n",
      " 13  14      0 0.250000 0.250000 0.250000 0.250000\n",
      " 13  15      0 0.250000 0.250000 0.250000 0.250000\n",
      " 14   0      3 0.003880 0.048249 0.003880 0.943992\n",
      " 14   1      0 0.986163 0.004612 0.004612 0.004612\n",
      " 14   2      1 0.004297 0.931499 0.059907 0.004297\n",
      " 14   3      0 0.986907 0.004364 0.004364 0.004364\n",
      " 14   4      0 0.893423 0.051341 0.051341 0.003895\n",
      " 14   5      3 0.004036 0.004036 0.052452 0.939475\n",
      " 14   6      3 0.004303 0.004303 0.004303 0.987091\n",
      " 14   7      0 0.990753 0.003082 0.003082 0.003082\n",
      " 14   8      0 0.921639 0.026120 0.026120 0.026120\n",
      " 14   9      1 0.002904 0.967734 0.026457 0.002904\n",
      " 14  10      1 0.002921 0.991237 0.002921 0.002921\n",
      " 14  11      0 0.974305 0.022980 0.002715 0.000000\n",
      " 14  12      0 0.977794 0.022206 0.000000 0.000000\n",
      " 14  13      1 0.002611 0.973499 0.021279 0.002611\n",
      " 14  14      0 1.000000 0.000000 0.000000 0.000000\n",
      " 14  15      1 0.002473 0.997527 0.000000 0.000000\n",
      " 15   0      3 0.004120 0.004120 0.004120 0.987639\n",
      " 15   1      0 0.986350 0.004550 0.004550 0.004550\n",
      " 15   2      0 0.885224 0.004027 0.055374 0.055374\n",
      " 15   3      0 0.934756 0.004193 0.056858 0.004193\n",
      " 15   4      3 0.052669 0.003939 0.052669 0.890723\n",
      " 15   5      2 0.056858 0.004193 0.934756 0.004193\n",
      " 15   6      2 0.004488 0.004488 0.986536 0.004488\n",
      " 15   7      0 0.993706 0.003147 0.000000 0.003147\n",
      " 15   8      3 0.003004 0.003004 0.028360 0.965632\n",
      " 15   9      0 0.968751 0.002855 0.002855 0.025539\n",
      " 15  10      0 0.949021 0.002745 0.024117 0.024117\n",
      " 15  11      3 0.002756 0.002756 0.023770 0.970718\n",
      " 15  12      3 0.002779 0.000000 0.000000 0.997221\n",
      " 15  13      0 0.974382 0.002563 0.002563 0.020492\n",
      " 15  14      3 0.000000 0.002573 0.000000 0.997427\n",
      " 15  15      0 0.250000 0.250000 0.250000 0.250000\n"
     ]
    }
   ],
   "source": [
    "dump_action_distribution(policy_16x16)"
   ]
  },
  {
   "cell_type": "code",
   "execution_count": 73,
   "metadata": {},
   "outputs": [],
   "source": [
    "final_trajectory = sample_trajectory(maze16x16, lambda x, y: policy_16x16.select_hard(x, y))"
   ]
  },
  {
   "cell_type": "code",
   "execution_count": 74,
   "metadata": {},
   "outputs": [
    {
     "data": {
      "text/plain": [
       "65"
      ]
     },
     "execution_count": 74,
     "metadata": {},
     "output_type": "execute_result"
    }
   ],
   "source": [
    "len(final_trajectory)"
   ]
  },
  {
   "cell_type": "code",
   "execution_count": 75,
   "metadata": {},
   "outputs": [],
   "source": [
    "plot_trajectory(maze16x16, final_trajectory, 0.1)"
   ]
  },
  {
   "cell_type": "code",
   "execution_count": 76,
   "metadata": {},
   "outputs": [],
   "source": [
    "maze24x24 = FixedMazeEnvironment(width = 24, height = 24, goal = (23, 23), rng = rng, seed = seed,\n",
    "                                 agent_image = '/home/tomault/projects/pegushi/src/resources/penguin24x24.png')"
   ]
  },
  {
   "cell_type": "code",
   "execution_count": 77,
   "metadata": {},
   "outputs": [],
   "source": [
    "policy_24x24 = TabularQFunction.from_maze_zeros(maze24x24, rng)\n",
    "trajectories_24x24 = learn(maze24x24, policy_24x24, 1000, 1.0, 0.99)"
   ]
  },
  {
   "cell_type": "code",
   "execution_count": 78,
   "metadata": {},
   "outputs": [
    {
     "data": {
      "image/png": "[encoded data removed]",
      "text/plain": [
       "<matplotlib.figure.Figure at 0x7fbd51fca0d0>"
      ]
     },
     "metadata": {},
     "output_type": "display_data"
    },
    {
     "data": {
      "image/png": "[encoded data removed]",
      "text/plain": [
       "<matplotlib.figure.Figure at 0x7fbd6df0c8d0>"
      ]
     },
     "metadata": {},
     "output_type": "display_data"
    }
   ],
   "source": [
    "plt.plot(list(x[1] for x in trajectories_24x24))\n",
    "plt.xlabel('Episode')\n",
    "plt.ylabel('Total Reward')\n",
    "plt.show()\n",
    "\n",
    "plt.plot(list(len(x[0]) for x in trajectories_24x24))\n",
    "plt.xlabel('Episode')\n",
    "plt.ylabel('Path length')\n",
    "plt.show()"
   ]
  },
  {
   "cell_type": "code",
   "execution_count": 79,
   "metadata": {},
   "outputs": [
    {
     "data": {
      "text/plain": [
       "56"
      ]
     },
     "execution_count": 79,
     "metadata": {},
     "output_type": "execute_result"
    }
   ],
   "source": [
    "maze24x24.compute_solution_length()"
   ]
  },
  {
   "cell_type": "code",
   "execution_count": 84,
   "metadata": {},
   "outputs": [
    {
     "data": {
      "text/plain": [
       "[10001,\n",
       " 10001,\n",
       " 10001,\n",
       " 10001,\n",
       " 4910,\n",
       " 71,\n",
       " 64,\n",
       " 69,\n",
       " 59,\n",
       " 61,\n",
       " 65,\n",
       " 63,\n",
       " 65,\n",
       " 69,\n",
       " 63,\n",
       " 59,\n",
       " 63,\n",
       " 63,\n",
       " 67,\n",
       " 63]"
      ]
     },
     "execution_count": 84,
     "metadata": {},
     "output_type": "execute_result"
    }
   ],
   "source": [
    "[ len(x[0]) for x in trajectories_24x24[10:30]]"
   ]
  },
  {
   "cell_type": "code",
   "execution_count": 81,
   "metadata": {},
   "outputs": [],
   "source": [
    "maze16x16.close()"
   ]
  },
  {
   "cell_type": "code",
   "execution_count": null,
   "metadata": {},
   "outputs": [],
   "source": []
  }
 ],
 "metadata": {
  "kernelspec": {
   "display_name": "Python 2",
   "language": "python",
   "name": "python2"
  },
  "language_info": {
   "codemirror_mode": {
    "name": "ipython",
    "version": 2
   },
   "file_extension": ".py",
   "mimetype": "text/x-python",
   "name": "python",
   "nbconvert_exporter": "python",
   "pygments_lexer": "ipython2",
   "version": "2.7.12"
  }
 },
 "nbformat": 4,
 "nbformat_minor": 1
}
