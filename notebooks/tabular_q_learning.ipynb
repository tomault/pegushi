{
 "cells": [
  {
   "cell_type": "code",
   "execution_count": 1,
   "metadata": {
    "collapsed": true
   },
   "outputs": [],
   "source": [
    "%matplotlib inline"
   ]
  },
  {
   "cell_type": "code",
   "execution_count": 2,
   "metadata": {
    "collapsed": true
   },
   "outputs": [],
   "source": [
    "import sys"
   ]
  },
  {
   "cell_type": "code",
   "execution_count": 3,
   "metadata": {
    "collapsed": false
   },
   "outputs": [],
   "source": [
    "sys.path.insert(0, '/home/tomault/projects/pegushi/src/python/packages')"
   ]
  },
  {
   "cell_type": "code",
   "execution_count": 4,
   "metadata": {
    "collapsed": false
   },
   "outputs": [
    {
     "name": "stdout",
     "output_type": "stream",
     "text": [
      "pygame 1.9.4\n",
      "Hello from the pygame community. https://www.pygame.org/contribute.html\n"
     ]
    }
   ],
   "source": [
    "import pegushi_gym.envs.maze"
   ]
  },
  {
   "cell_type": "code",
   "execution_count": 5,
   "metadata": {
    "collapsed": true
   },
   "outputs": [],
   "source": [
    "from pegushi_gym.envs.maze import FixedMazeEnvironment"
   ]
  },
  {
   "cell_type": "code",
   "execution_count": 6,
   "metadata": {
    "collapsed": true
   },
   "outputs": [],
   "source": [
    "import gym"
   ]
  },
  {
   "cell_type": "code",
   "execution_count": 7,
   "metadata": {
    "collapsed": false
   },
   "outputs": [],
   "source": [
    "from gym.utils.seeding import np_random"
   ]
  },
  {
   "cell_type": "code",
   "execution_count": 8,
   "metadata": {
    "collapsed": true
   },
   "outputs": [],
   "source": [
    "rng, seed = np_random(14045143762653964175L)"
   ]
  },
  {
   "cell_type": "code",
   "execution_count": 9,
   "metadata": {
    "collapsed": false
   },
   "outputs": [
    {
     "data": {
      "text/plain": [
       "14045143762653964175L"
      ]
     },
     "execution_count": 9,
     "metadata": {},
     "output_type": "execute_result"
    }
   ],
   "source": [
    "seed"
   ]
  },
  {
   "cell_type": "code",
   "execution_count": 10,
   "metadata": {
    "collapsed": false
   },
   "outputs": [
    {
     "data": {
      "text/plain": [
       "<mtrand.RandomState at 0x7f1176164aa0>"
      ]
     },
     "execution_count": 10,
     "metadata": {},
     "output_type": "execute_result"
    }
   ],
   "source": [
    "rng"
   ]
  },
  {
   "cell_type": "code",
   "execution_count": 11,
   "metadata": {
    "collapsed": true
   },
   "outputs": [],
   "source": [
    "maze5x5 = FixedMazeEnvironment(width = 5, height = 5, goal = (4, 4), rng = rng, seed = seed,\n",
    "                               agent_image = '/home/tomault/projects/pegushi/src/resources/penguin24x24.png')"
   ]
  },
  {
   "cell_type": "code",
   "execution_count": 12,
   "metadata": {
    "collapsed": true
   },
   "outputs": [],
   "source": [
    "maze5x5.render('human')"
   ]
  },
  {
   "cell_type": "code",
   "execution_count": 13,
   "metadata": {
    "collapsed": true
   },
   "outputs": [],
   "source": [
    "import numpy as np"
   ]
  },
  {
   "cell_type": "code",
   "execution_count": 14,
   "metadata": {
    "collapsed": true
   },
   "outputs": [],
   "source": [
    "class TabularQFunction:\n",
    "    \"\"\"Implementation of Q function with a 3D tensor (x, y, action) with both hard and soft action selection\n",
    "selection functions.\"\"\"\n",
    "    def __init__(self, q_table, rng):\n",
    "        self.q_table = q_table\n",
    "        self.num_actions = q_table.shape[-1]\n",
    "        self.rng = rng\n",
    "        \n",
    "    def __call__(self, x, y, a):\n",
    "        return self.q_table[x, y, a]\n",
    "    \n",
    "    def max_q(self, x, y):\n",
    "        return np.max(self.q_table[x, y, :])\n",
    "    \n",
    "    def select_hard(self, x, y):\n",
    "        \"\"\"Select the action with the highest q-value and lowest action number\"\"\"\n",
    "        return self.q_table[x, y, :].argmax()\n",
    "    \n",
    "    def select_soft(self, x, y):\n",
    "        \"\"\"Draw action from a categorical distribution whose parameters are computed from a softmax\n",
    "           over the q-values for the given state.\"\"\"\n",
    "        q = self.soft_q_distribution(x, y)\n",
    "        p = self.rng.uniform()\n",
    "        \n",
    "        # Assume action space is relatively small, so a linear search is not very inefficient\n",
    "        # Otherwise, replace with a binary search\n",
    "        for i in xrange(0, self.num_actions):\n",
    "            if p < q[i]:\n",
    "                return i\n",
    "            p -= q[i]\n",
    "\n",
    "        return self.num_actions - 1\n",
    "    \n",
    "    def soft_q_distribution(self, x, y):\n",
    "        values = self.q_table[x, y, :]\n",
    "        values = np.exp(values - np.max(values))\n",
    "        return values / np.sum(values)\n",
    "    \n",
    "    def update(self, x, y, a, v, alpha = 1.0):\n",
    "        u = self.q_table[x, y, a]\n",
    "        self.q_table[x, y, a] = (1.0 - alpha) * u + alpha * v\n",
    "        \n",
    "    def copy(self):\n",
    "        return TabularQFunction(self.q_table, self.rng)\n",
    "    \n",
    "    @staticmethod\n",
    "    def zeros(q_function):\n",
    "        return TabularQFunction(np.zeros(q_function.q_table.shape), q_function.rng)\n",
    "    \n",
    "    @staticmethod\n",
    "    def from_maze_zeros(maze, rng):\n",
    "        \"\"\"Q-function for maze environment initialized to all zeros\"\"\"\n",
    "        shape = (maze.observation_space.nvec[0], maze.observation_space.nvec[1], maze.action_space.n)\n",
    "        q_table = np.zeros(shape)\n",
    "        return TabularQFunction(q_table, rng)\n",
    "    \n",
    "    @staticmethod\n",
    "    def from_maze_normal(maze, rng):\n",
    "        \"\"\"Q function for maze environment initialized with standard normal distribution\"\"\"\n",
    "        shape = (maze.observation_space.nvec[0], maze.observation_space.nvec[1], maze.action_space.n)\n",
    "        q_table = rng.normal(0.0, 1.0, size = shape)\n",
    "        return TabularQFunction(q_table, rng)\n",
    "        "
   ]
  },
  {
   "cell_type": "code",
   "execution_count": 15,
   "metadata": {
    "collapsed": false
   },
   "outputs": [],
   "source": [
    "class QLearner:\n",
    "    def __init__(self, policy, alpha = 0.1, gamma = 0.5):\n",
    "        # Q-function being learned\n",
    "        self.q = policy\n",
    "        \n",
    "        # Learning rate\n",
    "        self.alpha = alpha\n",
    "        \n",
    "        # Discount rate\n",
    "        self.gamma = gamma\n",
    "        \n",
    "    def update(self, state, action, reward, next_state):\n",
    "        t = self.target(reward, next_state)\n",
    "        self.q.update(state[0], state[1], action, t, self.alpha)\n",
    "        return self\n",
    "        \n",
    "    def update_trajectory(self, trajectory):\n",
    "        \"\"\"Trajectory is a sequence of (state, action, reward) tuples.\"\"\"\n",
    "        next_state = trajectory[-1][0]\n",
    "        for (state, action, reward) in reversed(trajectory[0:-1]):\n",
    "            self.update(state, action, reward, next_state)\n",
    "            next_state = state\n",
    "        return self\n",
    "    \n",
    "    def target(self, reward, next_state):\n",
    "        future_rewards = self.gamma * self.q.max_q(*next_state) if next_state else 0.0\n",
    "        return reward + future_rewards\n",
    "        \n",
    "        "
   ]
  },
  {
   "cell_type": "code",
   "execution_count": 16,
   "metadata": {
    "collapsed": true
   },
   "outputs": [],
   "source": [
    "qf = TabularQFunction.from_maze_zeros(maze5x5, rng)"
   ]
  },
  {
   "cell_type": "code",
   "execution_count": 17,
   "metadata": {
    "collapsed": false
   },
   "outputs": [
    {
     "data": {
      "text/plain": [
       "array([0.25, 0.25, 0.25, 0.25])"
      ]
     },
     "execution_count": 17,
     "metadata": {},
     "output_type": "execute_result"
    }
   ],
   "source": [
    "qf.soft_q_distribution(0, 0)"
   ]
  },
  {
   "cell_type": "code",
   "execution_count": 18,
   "metadata": {
    "collapsed": true
   },
   "outputs": [],
   "source": [
    "from collections import Counter"
   ]
  },
  {
   "cell_type": "code",
   "execution_count": 19,
   "metadata": {
    "collapsed": false
   },
   "outputs": [],
   "source": [
    "def sample_trajectory(env, policy):\n",
    "    state= env.reset()\n",
    "    done = False\n",
    "    trajectory = [ ]\n",
    "    while not done:\n",
    "        action = policy(*state)\n",
    "        next_state, reward, done, _ = env.step(action)\n",
    "        trajectory.append((state, action, reward))\n",
    "        state = next_state\n",
    "        \n",
    "    trajectory.append((state, None, 0.0))\n",
    "    return trajectory"
   ]
  },
  {
   "cell_type": "code",
   "execution_count": 20,
   "metadata": {
    "collapsed": false
   },
   "outputs": [],
   "source": [
    "t = sample_trajectory(maze5x5, lambda x, y: qf.select_soft(x, y))"
   ]
  },
  {
   "cell_type": "code",
   "execution_count": 21,
   "metadata": {
    "collapsed": false
   },
   "outputs": [
    {
     "data": {
      "text/plain": [
       "1193"
      ]
     },
     "execution_count": 21,
     "metadata": {},
     "output_type": "execute_result"
    }
   ],
   "source": [
    "len(t)"
   ]
  },
  {
   "cell_type": "code",
   "execution_count": 22,
   "metadata": {
    "collapsed": false
   },
   "outputs": [
    {
     "data": {
      "text/plain": [
       "-3507.0"
      ]
     },
     "execution_count": 22,
     "metadata": {},
     "output_type": "execute_result"
    }
   ],
   "source": [
    "sum(x[2] for x in t)"
   ]
  },
  {
   "cell_type": "code",
   "execution_count": 23,
   "metadata": {
    "collapsed": true
   },
   "outputs": [],
   "source": [
    "import time"
   ]
  },
  {
   "cell_type": "code",
   "execution_count": 24,
   "metadata": {
    "collapsed": true
   },
   "outputs": [],
   "source": [
    "def plot_trajectory(env, trajectory, delay = 0.5):\n",
    "    for (state, action, reward) in trajectory:\n",
    "        env.teleport(*state)\n",
    "        env.render('human')\n",
    "        time.sleep(delay)"
   ]
  },
  {
   "cell_type": "code",
   "execution_count": 25,
   "metadata": {
    "collapsed": false
   },
   "outputs": [],
   "source": [
    "plot_trajectory(maze5x5, t, 0.1)"
   ]
  },
  {
   "cell_type": "code",
   "execution_count": 26,
   "metadata": {
    "collapsed": false
   },
   "outputs": [],
   "source": [
    "learner = QLearner(qf, 1.0)"
   ]
  },
  {
   "cell_type": "code",
   "execution_count": 27,
   "metadata": {
    "collapsed": false
   },
   "outputs": [
    {
     "data": {
      "text/plain": [
       "<__main__.QLearner instance at 0x7f116a28b128>"
      ]
     },
     "execution_count": 27,
     "metadata": {},
     "output_type": "execute_result"
    }
   ],
   "source": [
    "learner.update_trajectory(t)"
   ]
  },
  {
   "cell_type": "code",
   "execution_count": 28,
   "metadata": {
    "collapsed": true
   },
   "outputs": [],
   "source": [
    "def dump_action_distribution(qf):\n",
    "    print ' X   Y  ACTION   NORTH    EAST     SOUTH    WEST'\n",
    "    print '--- --- ------ -------- -------- -------- --------'\n",
    "    for x in xrange(0, qf.q_table.shape[0]):\n",
    "        for y in xrange(0, qf.q_table.shape[1]):\n",
    "            a = qf.select_hard(x, y)\n",
    "            p = qf.soft_q_distribution(x, y)\n",
    "            print '%3d %3d %6d %8.6f %8.6f %8.6f %8.6f' % (x, y, a, p[0], p[1], p[2], p[3])"
   ]
  },
  {
   "cell_type": "code",
   "execution_count": 29,
   "metadata": {
    "collapsed": false
   },
   "outputs": [
    {
     "name": "stdout",
     "output_type": "stream",
     "text": [
      " X   Y  ACTION   NORTH    EAST     SOUTH    WEST\n",
      "--- --- ------ -------- -------- -------- --------\n",
      "  0   0      0 0.952619 0.015794 0.015794 0.015794\n",
      "  0   1      0 0.564429 0.008471 0.418630 0.008471\n",
      "  0   2      0 0.635045 0.007809 0.349338 0.007809\n",
      "  0   3      0 0.758081 0.006258 0.229402 0.006258\n",
      "  0   4      1 0.003386 0.909906 0.083322 0.003386\n",
      "  1   0      0 0.547162 0.416259 0.018289 0.018289\n",
      "  1   1      0 0.635045 0.007809 0.349338 0.007809\n",
      "  1   2      0 0.758081 0.006258 0.229402 0.006258\n",
      "  1   3      0 0.909906 0.003386 0.083322 0.003386\n",
      "  1   4      1 0.000743 0.982775 0.008241 0.008241\n",
      "  2   0      3 0.008684 0.445390 0.008684 0.537243\n",
      "  2   1      0 0.990200 0.008303 0.000749 0.000749\n",
      "  2   2      0 0.999867 0.000031 0.000070 0.000031\n",
      "  2   3      1 0.000000 1.000000 0.000000 0.000000\n",
      "  2   4      2 0.000031 0.000031 0.999867 0.000070\n",
      "  3   0      3 0.016361 0.016361 0.016361 0.950916\n",
      "  3   1      3 0.003680 0.003680 0.003680 0.988960\n",
      "  3   2      0 0.250000 0.250000 0.250000 0.250000\n",
      "  3   3      0 1.000000 0.000000 0.000000 0.000000\n",
      "  3   4      1 0.000000 1.000000 0.000000 0.000000\n",
      "  4   0      0 0.250000 0.250000 0.250000 0.250000\n",
      "  4   1      0 0.250000 0.250000 0.250000 0.250000\n",
      "  4   2      0 0.250000 0.250000 0.250000 0.250000\n",
      "  4   3      0 0.250000 0.250000 0.250000 0.250000\n",
      "  4   4      0 0.250000 0.250000 0.250000 0.250000\n"
     ]
    }
   ],
   "source": [
    "dump_action_distribution(qf)"
   ]
  },
  {
   "cell_type": "code",
   "execution_count": 30,
   "metadata": {
    "collapsed": false
   },
   "outputs": [],
   "source": [
    "rewards = [ ]"
   ]
  },
  {
   "cell_type": "code",
   "execution_count": 31,
   "metadata": {
    "collapsed": true
   },
   "outputs": [],
   "source": [
    "rewards.append(sum(x[2] for x in t))"
   ]
  },
  {
   "cell_type": "code",
   "execution_count": 32,
   "metadata": {
    "collapsed": true
   },
   "outputs": [],
   "source": [
    "rewards.append(sum(x[2] for x in t))"
   ]
  },
  {
   "cell_type": "code",
   "execution_count": 33,
   "metadata": {
    "collapsed": false
   },
   "outputs": [],
   "source": [
    "t = sample_trajectory(maze5x5, lambda x, y: qf.select_soft(x, y))"
   ]
  },
  {
   "cell_type": "code",
   "execution_count": 34,
   "metadata": {
    "collapsed": false
   },
   "outputs": [
    {
     "data": {
      "text/plain": [
       "11"
      ]
     },
     "execution_count": 34,
     "metadata": {},
     "output_type": "execute_result"
    }
   ],
   "source": [
    "len(t)"
   ]
  },
  {
   "cell_type": "code",
   "execution_count": 35,
   "metadata": {
    "collapsed": true
   },
   "outputs": [],
   "source": [
    "rewards.append(sum(x[2] for x in t))"
   ]
  },
  {
   "cell_type": "code",
   "execution_count": 36,
   "metadata": {
    "collapsed": false
   },
   "outputs": [
    {
     "data": {
      "text/plain": [
       "[-3507.0, -3507.0, 91.0]"
      ]
     },
     "execution_count": 36,
     "metadata": {},
     "output_type": "execute_result"
    }
   ],
   "source": [
    "rewards"
   ]
  },
  {
   "cell_type": "code",
   "execution_count": 37,
   "metadata": {
    "collapsed": true
   },
   "outputs": [],
   "source": [
    "plot_trajectory(maze5x5, t, delay = 0.5)"
   ]
  },
  {
   "cell_type": "code",
   "execution_count": 38,
   "metadata": {
    "collapsed": false
   },
   "outputs": [
    {
     "data": {
      "text/plain": [
       "<__main__.QLearner instance at 0x7f116a28b128>"
      ]
     },
     "execution_count": 38,
     "metadata": {},
     "output_type": "execute_result"
    }
   ],
   "source": [
    "learner.update_trajectory(t)"
   ]
  },
  {
   "cell_type": "code",
   "execution_count": 39,
   "metadata": {
    "collapsed": false
   },
   "outputs": [
    {
     "name": "stdout",
     "output_type": "stream",
     "text": [
      " X   Y  ACTION   NORTH    EAST     SOUTH    WEST\n",
      "--- --- ------ -------- -------- -------- --------\n",
      "  0   0      0 0.952619 0.015794 0.015794 0.015794\n",
      "  0   1      0 0.564429 0.008471 0.418630 0.008471\n",
      "  0   2      0 0.635045 0.007809 0.349338 0.007809\n",
      "  0   3      0 0.758081 0.006258 0.229402 0.006258\n",
      "  0   4      1 0.003386 0.909906 0.083322 0.003386\n",
      "  1   0      0 0.547162 0.416259 0.018289 0.018289\n",
      "  1   1      0 0.635045 0.007809 0.349338 0.007809\n",
      "  1   2      0 0.758081 0.006258 0.229402 0.006258\n",
      "  1   3      0 0.909906 0.003386 0.083322 0.003386\n",
      "  1   4      1 0.000743 0.982775 0.008241 0.008241\n",
      "  2   0      3 0.008684 0.445390 0.008684 0.537243\n",
      "  2   1      0 0.990200 0.008303 0.000749 0.000749\n",
      "  2   2      0 0.999867 0.000031 0.000070 0.000031\n",
      "  2   3      1 0.000000 1.000000 0.000000 0.000000\n",
      "  2   4      2 0.000031 0.000031 0.999867 0.000070\n",
      "  3   0      3 0.016361 0.016361 0.016361 0.950916\n",
      "  3   1      3 0.003680 0.003680 0.003680 0.988960\n",
      "  3   2      0 0.250000 0.250000 0.250000 0.250000\n",
      "  3   3      0 1.000000 0.000000 0.000000 0.000000\n",
      "  3   4      1 0.000000 1.000000 0.000000 0.000000\n",
      "  4   0      0 0.250000 0.250000 0.250000 0.250000\n",
      "  4   1      0 0.250000 0.250000 0.250000 0.250000\n",
      "  4   2      0 0.250000 0.250000 0.250000 0.250000\n",
      "  4   3      0 0.250000 0.250000 0.250000 0.250000\n",
      "  4   4      0 0.250000 0.250000 0.250000 0.250000\n"
     ]
    }
   ],
   "source": [
    "dump_action_distribution(qf)"
   ]
  },
  {
   "cell_type": "code",
   "execution_count": 40,
   "metadata": {
    "collapsed": false
   },
   "outputs": [
    {
     "data": {
      "text/plain": [
       "10"
      ]
     },
     "execution_count": 40,
     "metadata": {},
     "output_type": "execute_result"
    }
   ],
   "source": [
    "maze5x5.compute_solution_length()"
   ]
  },
  {
   "cell_type": "code",
   "execution_count": 41,
   "metadata": {
    "collapsed": true
   },
   "outputs": [],
   "source": [
    "t = sample_trajectory(maze5x5, lambda x, y: qf.select_soft(x, y))"
   ]
  },
  {
   "cell_type": "code",
   "execution_count": 42,
   "metadata": {
    "collapsed": false
   },
   "outputs": [
    {
     "data": {
      "text/plain": [
       "13"
      ]
     },
     "execution_count": 42,
     "metadata": {},
     "output_type": "execute_result"
    }
   ],
   "source": [
    "len(t)"
   ]
  },
  {
   "cell_type": "code",
   "execution_count": 43,
   "metadata": {
    "collapsed": true
   },
   "outputs": [],
   "source": [
    "rewards.append(sum(x[2] for x in t))"
   ]
  },
  {
   "cell_type": "code",
   "execution_count": 44,
   "metadata": {
    "collapsed": true
   },
   "outputs": [],
   "source": [
    "plot_trajectory(maze5x5, t, delay = 0.5)"
   ]
  },
  {
   "cell_type": "code",
   "execution_count": 45,
   "metadata": {
    "collapsed": false
   },
   "outputs": [
    {
     "data": {
      "text/plain": [
       "[((0, 0), 0, -1.0),\n",
       " ((0, 1), 0, -1.0),\n",
       " ((0, 2), 0, -1.0),\n",
       " ((0, 3), 0, -1.0),\n",
       " ((0, 4), 1, -1.0),\n",
       " ((1, 4), 3, -1.0),\n",
       " ((0, 4), 1, -1.0),\n",
       " ((1, 4), 1, -1.0),\n",
       " ((2, 4), 2, -1.0),\n",
       " ((2, 3), 1, -1.0),\n",
       " ((3, 3), 0, -1.0),\n",
       " ((3, 4), 1, 100.0),\n",
       " ((4, 4), None, 0.0)]"
      ]
     },
     "execution_count": 45,
     "metadata": {},
     "output_type": "execute_result"
    }
   ],
   "source": [
    "t"
   ]
  },
  {
   "cell_type": "code",
   "execution_count": 46,
   "metadata": {
    "collapsed": false
   },
   "outputs": [
    {
     "data": {
      "text/plain": [
       "<__main__.QLearner instance at 0x7f116a28b128>"
      ]
     },
     "execution_count": 46,
     "metadata": {},
     "output_type": "execute_result"
    }
   ],
   "source": [
    "learner.update_trajectory(t)"
   ]
  },
  {
   "cell_type": "code",
   "execution_count": 47,
   "metadata": {
    "collapsed": false
   },
   "outputs": [
    {
     "name": "stdout",
     "output_type": "stream",
     "text": [
      " X   Y  ACTION   NORTH    EAST     SOUTH    WEST\n",
      "--- --- ------ -------- -------- -------- --------\n",
      "  0   0      0 0.952619 0.015794 0.015794 0.015794\n",
      "  0   1      0 0.564429 0.008471 0.418630 0.008471\n",
      "  0   2      0 0.635045 0.007809 0.349338 0.007809\n",
      "  0   3      0 0.758081 0.006258 0.229402 0.006258\n",
      "  0   4      1 0.003386 0.909906 0.083322 0.003386\n",
      "  1   0      0 0.547162 0.416259 0.018289 0.018289\n",
      "  1   1      0 0.635045 0.007809 0.349338 0.007809\n",
      "  1   2      0 0.758081 0.006258 0.229402 0.006258\n",
      "  1   3      0 0.909906 0.003386 0.083322 0.003386\n",
      "  1   4      1 0.000743 0.982775 0.008241 0.008241\n",
      "  2   0      3 0.008684 0.445390 0.008684 0.537243\n",
      "  2   1      0 0.990200 0.008303 0.000749 0.000749\n",
      "  2   2      0 0.999867 0.000031 0.000070 0.000031\n",
      "  2   3      1 0.000000 1.000000 0.000000 0.000000\n",
      "  2   4      2 0.000031 0.000031 0.999867 0.000070\n",
      "  3   0      3 0.016361 0.016361 0.016361 0.950916\n",
      "  3   1      3 0.003680 0.003680 0.003680 0.988960\n",
      "  3   2      0 0.250000 0.250000 0.250000 0.250000\n",
      "  3   3      0 1.000000 0.000000 0.000000 0.000000\n",
      "  3   4      1 0.000000 1.000000 0.000000 0.000000\n",
      "  4   0      0 0.250000 0.250000 0.250000 0.250000\n",
      "  4   1      0 0.250000 0.250000 0.250000 0.250000\n",
      "  4   2      0 0.250000 0.250000 0.250000 0.250000\n",
      "  4   3      0 0.250000 0.250000 0.250000 0.250000\n",
      "  4   4      0 0.250000 0.250000 0.250000 0.250000\n"
     ]
    }
   ],
   "source": [
    "dump_action_distribution(qf)"
   ]
  },
  {
   "cell_type": "code",
   "execution_count": 48,
   "metadata": {
    "collapsed": true
   },
   "outputs": [],
   "source": [
    "t = sample_trajectory(maze5x5, lambda x, y: qf.select_soft(x, y))"
   ]
  },
  {
   "cell_type": "code",
   "execution_count": 49,
   "metadata": {
    "collapsed": false
   },
   "outputs": [
    {
     "data": {
      "text/plain": [
       "17"
      ]
     },
     "execution_count": 49,
     "metadata": {},
     "output_type": "execute_result"
    }
   ],
   "source": [
    "len(t)"
   ]
  },
  {
   "cell_type": "code",
   "execution_count": 50,
   "metadata": {
    "collapsed": true
   },
   "outputs": [],
   "source": [
    "rewards.append(sum(x[2] for x in t))"
   ]
  },
  {
   "cell_type": "code",
   "execution_count": 51,
   "metadata": {
    "collapsed": true
   },
   "outputs": [],
   "source": [
    "plot_trajectory(maze5x5, t, delay = 0.5)"
   ]
  },
  {
   "cell_type": "code",
   "execution_count": 52,
   "metadata": {
    "collapsed": false
   },
   "outputs": [
    {
     "data": {
      "text/plain": [
       "[-3507.0, -3507.0, 91.0, 89.0, 85.0]"
      ]
     },
     "execution_count": 52,
     "metadata": {},
     "output_type": "execute_result"
    }
   ],
   "source": [
    "rewards"
   ]
  },
  {
   "cell_type": "code",
   "execution_count": 53,
   "metadata": {
    "collapsed": false
   },
   "outputs": [
    {
     "data": {
      "text/plain": [
       "<__main__.QLearner instance at 0x7f116a28b128>"
      ]
     },
     "execution_count": 53,
     "metadata": {},
     "output_type": "execute_result"
    }
   ],
   "source": [
    "learner.update_trajectory(t)"
   ]
  },
  {
   "cell_type": "code",
   "execution_count": 54,
   "metadata": {
    "collapsed": false
   },
   "outputs": [
    {
     "name": "stdout",
     "output_type": "stream",
     "text": [
      " X   Y  ACTION   NORTH    EAST     SOUTH    WEST\n",
      "--- --- ------ -------- -------- -------- --------\n",
      "  0   0      0 0.952619 0.015794 0.015794 0.015794\n",
      "  0   1      0 0.564429 0.008471 0.418630 0.008471\n",
      "  0   2      0 0.635045 0.007809 0.349338 0.007809\n",
      "  0   3      0 0.758081 0.006258 0.229402 0.006258\n",
      "  0   4      1 0.003386 0.909906 0.083322 0.003386\n",
      "  1   0      0 0.547162 0.416259 0.018289 0.018289\n",
      "  1   1      0 0.635045 0.007809 0.349338 0.007809\n",
      "  1   2      0 0.758081 0.006258 0.229402 0.006258\n",
      "  1   3      0 0.909906 0.003386 0.083322 0.003386\n",
      "  1   4      1 0.000743 0.982775 0.008241 0.008241\n",
      "  2   0      3 0.008684 0.445390 0.008684 0.537243\n",
      "  2   1      0 0.990200 0.008303 0.000749 0.000749\n",
      "  2   2      0 0.999867 0.000031 0.000070 0.000031\n",
      "  2   3      1 0.000000 1.000000 0.000000 0.000000\n",
      "  2   4      2 0.000031 0.000031 0.999867 0.000070\n",
      "  3   0      3 0.016361 0.016361 0.016361 0.950916\n",
      "  3   1      3 0.003680 0.003680 0.003680 0.988960\n",
      "  3   2      0 0.250000 0.250000 0.250000 0.250000\n",
      "  3   3      0 1.000000 0.000000 0.000000 0.000000\n",
      "  3   4      1 0.000000 1.000000 0.000000 0.000000\n",
      "  4   0      0 0.250000 0.250000 0.250000 0.250000\n",
      "  4   1      0 0.250000 0.250000 0.250000 0.250000\n",
      "  4   2      0 0.250000 0.250000 0.250000 0.250000\n",
      "  4   3      0 0.250000 0.250000 0.250000 0.250000\n",
      "  4   4      0 0.250000 0.250000 0.250000 0.250000\n"
     ]
    }
   ],
   "source": [
    "dump_action_distribution(qf)"
   ]
  },
  {
   "cell_type": "code",
   "execution_count": 55,
   "metadata": {
    "collapsed": false
   },
   "outputs": [
    {
     "data": {
      "text/plain": [
       "[((0, 0), 0, -1.0),\n",
       " ((0, 1), 0, -1.0),\n",
       " ((0, 2), 2, -1.0),\n",
       " ((0, 1), 2, -1.0),\n",
       " ((0, 0), 0, -1.0),\n",
       " ((0, 1), 0, -1.0),\n",
       " ((0, 2), 0, -1.0),\n",
       " ((0, 3), 2, -1.0),\n",
       " ((0, 2), 0, -1.0),\n",
       " ((0, 3), 0, -1.0),\n",
       " ((0, 4), 1, -1.0),\n",
       " ((1, 4), 1, -1.0),\n",
       " ((2, 4), 2, -1.0),\n",
       " ((2, 3), 1, -1.0),\n",
       " ((3, 3), 0, -1.0),\n",
       " ((3, 4), 1, 100.0),\n",
       " ((4, 4), None, 0.0)]"
      ]
     },
     "execution_count": 55,
     "metadata": {},
     "output_type": "execute_result"
    }
   ],
   "source": [
    "t"
   ]
  },
  {
   "cell_type": "code",
   "execution_count": 56,
   "metadata": {
    "collapsed": true
   },
   "outputs": [],
   "source": [
    "t = sample_trajectory(maze5x5, lambda x, y: qf.select_soft(x, y))"
   ]
  },
  {
   "cell_type": "code",
   "execution_count": 57,
   "metadata": {
    "collapsed": false
   },
   "outputs": [
    {
     "data": {
      "text/plain": [
       "[((0, 0), 0, -1.0),\n",
       " ((0, 1), 2, -1.0),\n",
       " ((0, 0), 0, -1.0),\n",
       " ((0, 1), 2, -1.0),\n",
       " ((0, 0), 0, -1.0),\n",
       " ((0, 1), 0, -1.0),\n",
       " ((0, 2), 0, -1.0),\n",
       " ((0, 3), 0, -1.0),\n",
       " ((0, 4), 1, -1.0),\n",
       " ((1, 4), 1, -1.0),\n",
       " ((2, 4), 2, -1.0),\n",
       " ((2, 3), 1, -1.0),\n",
       " ((3, 3), 0, -1.0),\n",
       " ((3, 4), 1, 100.0),\n",
       " ((4, 4), None, 0.0)]"
      ]
     },
     "execution_count": 57,
     "metadata": {},
     "output_type": "execute_result"
    }
   ],
   "source": [
    "t"
   ]
  },
  {
   "cell_type": "code",
   "execution_count": 58,
   "metadata": {
    "collapsed": true
   },
   "outputs": [],
   "source": [
    "def learn(env, policy, num_iterations, alpha = 0.1, gamma = 0.5):\n",
    "    learner = QLearner(policy, alpha, gamma)\n",
    "    trajectories = [ ]\n",
    "    for i in xrange(0, num_iterations):\n",
    "        t = sample_trajectory(env, lambda x, y: policy.select_soft(x, y))\n",
    "        trajectories.append((t, sum(x[2] for x in t)))\n",
    "        learner.update_trajectory(t)\n",
    "    return trajectories"
   ]
  },
  {
   "cell_type": "code",
   "execution_count": 59,
   "metadata": {
    "collapsed": true
   },
   "outputs": [],
   "source": [
    "maze16x16 = FixedMazeEnvironment(width = 16, height = 16, goal = (15, 15), rng = rng, seed = seed,\n",
    "                                 agent_image = '/home/tomault/projects/pegushi/src/resources/penguin24x24.png')"
   ]
  },
  {
   "cell_type": "code",
   "execution_count": 87,
   "metadata": {
    "collapsed": false
   },
   "outputs": [],
   "source": [
    "policy_16x16 = TabularQFunction.from_maze_zeros(maze16x16, rng)\n",
    "trajectories_16x16 = learn(maze16x16, policy_16x16, 1000, 1.0, 0.99)"
   ]
  },
  {
   "cell_type": "code",
   "execution_count": 88,
   "metadata": {
    "collapsed": true
   },
   "outputs": [],
   "source": [
    "rewards_16x16 = [x[1] for x in trajectories_16x16]"
   ]
  },
  {
   "cell_type": "code",
   "execution_count": 89,
   "metadata": {
    "collapsed": true
   },
   "outputs": [],
   "source": [
    "import matplotlib.pyplot as plt"
   ]
  },
  {
   "cell_type": "code",
   "execution_count": 90,
   "metadata": {
    "collapsed": false
   },
   "outputs": [
    {
     "data": {
      "image/png": "[encoded data removed]",
      "text/plain": [
       "<Figure size 600x400 with 1 Axes>"
      ]
     },
     "metadata": {},
     "output_type": "display_data"
    },
    {
     "data": {
      "image/png": "[encoded data removed]",
      "text/plain": [
       "<Figure size 600x400 with 1 Axes>"
      ]
     },
     "metadata": {},
     "output_type": "display_data"
    }
   ],
   "source": [
    "plt.plot(rewards_16x16)\n",
    "plt.xlabel('Episode')\n",
    "plt.ylabel('Total Reward')\n",
    "plt.show()\n",
    "\n",
    "plt.plot(list(len(x[0]) for x in trajectories_16x16))\n",
    "plt.xlabel('Episode')\n",
    "plt.ylabel('Path length')\n",
    "plt.show()"
   ]
  },
  {
   "cell_type": "code",
   "execution_count": 64,
   "metadata": {
    "collapsed": true
   },
   "outputs": [],
   "source": [
    "policy_5x5 = TabularQFunction.from_maze_zeros(maze5x5, rng)\n",
    "trajectories_5x5 = learn(maze5x5, policy_5x5, 20, 1.0)"
   ]
  },
  {
   "cell_type": "code",
   "execution_count": 65,
   "metadata": {
    "collapsed": false
   },
   "outputs": [
    {
     "data": {
      "text/plain": [
       "[-500.0,\n",
       " -249.0,\n",
       " 89.0,\n",
       " 75.0,\n",
       " 86.0,\n",
       " 84.0,\n",
       " 89.0,\n",
       " 87.0,\n",
       " 91.0,\n",
       " 72.0,\n",
       " 91.0,\n",
       " 91.0,\n",
       " 89.0,\n",
       " 89.0,\n",
       " 89.0,\n",
       " 91.0,\n",
       " 80.0,\n",
       " 73.0,\n",
       " 91.0,\n",
       " 89.0]"
      ]
     },
     "execution_count": 65,
     "metadata": {},
     "output_type": "execute_result"
    }
   ],
   "source": [
    "[x[1] for x in trajectories_5x5]"
   ]
  },
  {
   "cell_type": "code",
   "execution_count": 66,
   "metadata": {
    "collapsed": false
   },
   "outputs": [],
   "source": [
    "maze5x5.close()"
   ]
  },
  {
   "cell_type": "code",
   "execution_count": 67,
   "metadata": {
    "collapsed": false
   },
   "outputs": [],
   "source": [
    "maze16x16.render('human')"
   ]
  },
  {
   "cell_type": "code",
   "execution_count": 68,
   "metadata": {
    "collapsed": false
   },
   "outputs": [
    {
     "data": {
      "text/plain": [
       "64"
      ]
     },
     "execution_count": 68,
     "metadata": {},
     "output_type": "execute_result"
    }
   ],
   "source": [
    "maze16x16.compute_solution_length()"
   ]
  },
  {
   "cell_type": "code",
   "execution_count": 80,
   "metadata": {
    "collapsed": false
   },
   "outputs": [],
   "source": [
    "plot_trajectory(maze16x16, trajectories_16x16[-2][0], 0.1)"
   ]
  },
  {
   "cell_type": "code",
   "execution_count": 93,
   "metadata": {
    "collapsed": false
   },
   "outputs": [
    {
     "data": {
      "text/plain": [
       "[4882,\n",
       " 72,\n",
       " 80,\n",
       " 69,\n",
       " 73,\n",
       " 81,\n",
       " 81,\n",
       " 68,\n",
       " 75,\n",
       " 73,\n",
       " 71,\n",
       " 76,\n",
       " 76,\n",
       " 73,\n",
       " 76,\n",
       " 72,\n",
       " 77,\n",
       " 80,\n",
       " 83,\n",
       " 78,\n",
       " 73,\n",
       " 72,\n",
       " 77,\n",
       " 77,\n",
       " 77,\n",
       " 69,\n",
       " 83,\n",
       " 83,\n",
       " 73,\n",
       " 79,\n",
       " 83,\n",
       " 79,\n",
       " 71,\n",
       " 78,\n",
       " 69,\n",
       " 69,\n",
       " 79,\n",
       " 73,\n",
       " 71,\n",
       " 73,\n",
       " 81,\n",
       " 72,\n",
       " 77,\n",
       " 71,\n",
       " 81,\n",
       " 77,\n",
       " 73,\n",
       " 85,\n",
       " 72,\n",
       " 67]"
      ]
     },
     "execution_count": 93,
     "metadata": {},
     "output_type": "execute_result"
    }
   ],
   "source": [
    "[ len(trajectories_16x16[i][0]) for i in xrange(0, 50) ]"
   ]
  },
  {
   "cell_type": "code",
   "execution_count": null,
   "metadata": {
    "collapsed": true
   },
   "outputs": [],
   "source": [
    "import matplotlib.pyplot as plt"
   ]
  },
  {
   "cell_type": "code",
   "execution_count": 92,
   "metadata": {
    "collapsed": false
   },
   "outputs": [
    {
     "name": "stdout",
     "output_type": "stream",
     "text": [
      " X   Y  ACTION   NORTH    EAST     SOUTH    WEST\n",
      "--- --- ------ -------- -------- -------- --------\n",
      "  0   0      0 0.981352 0.006216 0.006216 0.006216\n",
      "  0   1      1 0.005541 0.884287 0.104630 0.005541\n",
      "  0   2      0 0.898581 0.091004 0.005208 0.005208\n",
      "  0   3      1 0.082217 0.830808 0.082217 0.004759\n",
      "  0   4      2 0.091004 0.005208 0.898581 0.005208\n",
      "  0   5      2 0.005761 0.005761 0.982717 0.005761\n",
      "  0   6      1 0.005181 0.984456 0.005181 0.005181\n",
      "  0   7      1 0.005117 0.984648 0.005117 0.005117\n",
      "  0   8      0 0.985220 0.004927 0.004927 0.004927\n",
      "  0   9      0 0.867999 0.063858 0.063858 0.004284\n",
      "  0  10      0 0.924730 0.004504 0.066262 0.004504\n",
      "  0  11      0 0.926454 0.004452 0.064642 0.004452\n",
      "  0  12      1 0.004401 0.928157 0.063042 0.004401\n",
      "  0  13      0 0.986163 0.004612 0.004612 0.004612\n",
      "  0  14      1 0.004297 0.931499 0.059907 0.004297\n",
      "  0  15      1 0.004612 0.986163 0.004612 0.004612\n",
      "  1   0      1 0.100664 0.888441 0.005447 0.005447\n",
      "  1   1      2 0.005495 0.005495 0.886371 0.102640\n",
      "  1   2      3 0.005256 0.092905 0.005256 0.896583\n",
      "  1   3      1 0.005110 0.902529 0.005110 0.087251\n",
      "  1   4      0 0.250000 0.250000 0.250000 0.250000\n",
      "  1   5      0 0.984456 0.005181 0.005181 0.005181\n",
      "  1   6      0 0.855966 0.004449 0.069793 0.069793\n",
      "  1   7      0 0.807431 0.064190 0.064190 0.064190\n",
      "  1   8      0 0.862033 0.066800 0.066800 0.004367\n",
      "  1   9      3 0.061567 0.061567 0.061567 0.815299\n",
      "  1  10      2 0.071248 0.004658 0.919436 0.004658\n",
      "  1  11      2 0.000000 0.000000 0.994895 0.005105\n",
      "  1  12      0 0.929839 0.004349 0.004349 0.061464\n",
      "  1  13      0 0.931499 0.004297 0.059907 0.004297\n",
      "  1  14      1 0.052670 0.841990 0.052670 0.052670\n",
      "  1  15      2 0.004297 0.004297 0.931499 0.059907\n",
      "  2   0      0 0.814504 0.090278 0.004939 0.090278\n",
      "  2   1      0 0.817793 0.088651 0.088651 0.004904\n",
      "  2   2      3 0.005304 0.005304 0.094822 0.894569\n",
      "  2   3      0 0.904479 0.005060 0.005060 0.085401\n",
      "  2   4      0 1.000000 0.000000 0.000000 0.000000\n",
      "  2   5      0 1.000000 0.000000 0.000000 0.000000\n",
      "  2   6      1 0.000000 0.994634 0.000000 0.005366\n",
      "  2   7      3 0.005117 0.005117 0.005117 0.984648\n",
      "  2   8      3 0.004709 0.072950 0.004709 0.917632\n",
      "  2   9      3 0.071248 0.004658 0.004658 0.919436\n",
      "  2  10      2 0.004709 0.072950 0.917632 0.004709\n",
      "  2  11      0 0.986163 0.004612 0.004612 0.004612\n",
      "  2  12      0 0.882428 0.056751 0.056751 0.004071\n",
      "  2  13      0 0.933139 0.004245 0.058372 0.004245\n",
      "  2  14      0 0.887989 0.003983 0.054014 0.054014\n",
      "  2  15      1 0.004141 0.936351 0.055367 0.004141\n",
      "  3   0      3 0.006021 0.006021 0.006021 0.981938\n",
      "  3   1      3 0.090278 0.090278 0.004939 0.814504\n",
      "  3   2      2 0.006021 0.006021 0.981938 0.006021\n",
      "  3   3      0 0.250000 0.250000 0.250000 0.250000\n",
      "  3   4      0 0.250000 0.250000 0.250000 0.250000\n",
      "  3   5      0 0.250000 0.250000 0.250000 0.250000\n",
      "  3   6      0 0.849802 0.072834 0.004529 0.072834\n",
      "  3   7      0 0.918383 0.000000 0.076783 0.004833\n",
      "  3   8      3 0.004449 0.069793 0.069793 0.855966\n",
      "  3   9      0 0.984456 0.005181 0.005181 0.005181\n",
      "  3  10      3 0.004449 0.069793 0.069793 0.855966\n",
      "  3  11      1 0.005309 0.984072 0.005309 0.005309\n",
      "  3  12      3 0.004612 0.004612 0.004612 0.986163\n",
      "  3  13      1 0.000000 1.000000 0.000000 0.000000\n",
      "  3  14      2 0.000000 0.000000 0.995722 0.004278\n",
      "  3  15      2 0.004089 0.004089 0.937924 0.053898\n",
      "  4   0      0 0.250000 0.250000 0.250000 0.250000\n",
      "  4   1      3 0.006021 0.006021 0.006021 0.981938\n",
      "  4   2      0 0.250000 0.250000 0.250000 0.250000\n",
      "  4   3      0 0.250000 0.250000 0.250000 0.250000\n",
      "  4   4      0 0.250000 0.250000 0.250000 0.250000\n",
      "  4   5      0 0.983879 0.005374 0.005374 0.005374\n",
      "  4   6      3 0.004568 0.074372 0.074372 0.846687\n",
      "  4   7      0 0.250000 0.250000 0.250000 0.250000\n",
      "  4   8      3 0.004810 0.076414 0.004810 0.913966\n",
      "  4   9      0 0.250000 0.250000 0.250000 0.250000\n",
      "  4  10      3 0.076414 0.004810 0.004810 0.913966\n",
      "  4  11      2 0.072834 0.004529 0.849802 0.072834\n",
      "  4  12      2 0.005309 0.005309 0.984072 0.005309\n",
      "  4  13      1 0.000000 1.000000 0.000000 0.000000\n",
      "  4  14      0 0.250000 0.250000 0.250000 0.250000\n",
      "  4  15      0 0.250000 0.250000 0.250000 0.250000\n",
      "  5   0      0 0.250000 0.250000 0.250000 0.250000\n",
      "  5   1      0 0.250000 0.250000 0.250000 0.250000\n",
      "  5   2      0 0.250000 0.250000 0.250000 0.250000\n",
      "  5   3      0 0.250000 0.250000 0.250000 0.250000\n",
      "  5   4      0 0.250000 0.250000 0.250000 0.250000\n",
      "  5   5      0 1.000000 0.000000 0.000000 0.000000\n",
      "  5   6      3 0.004986 0.000000 0.082159 0.912856\n",
      "  5   7      0 0.989325 0.005338 0.005338 0.000000\n",
      "  5   8      3 0.072834 0.004529 0.072834 0.849802\n",
      "  5   9      2 0.080747 0.000000 0.919253 0.000000\n",
      "  5  10      2 0.082570 0.000000 0.917430 0.000000\n",
      "  5  11      2 0.005468 0.000000 0.989065 0.005468\n",
      "  5  12      0 0.250000 0.250000 0.250000 0.250000\n",
      "  5  13      1 0.000000 1.000000 0.000000 0.000000\n",
      "  5  14      0 0.250000 0.250000 0.250000 0.250000\n",
      "  5  15      0 0.250000 0.250000 0.250000 0.250000\n",
      "  6   0      0 0.250000 0.250000 0.250000 0.250000\n",
      "  6   1      0 0.250000 0.250000 0.250000 0.250000\n",
      "  6   2      0 0.250000 0.250000 0.250000 0.250000\n",
      "  6   3      0 0.250000 0.250000 0.250000 0.250000\n",
      "  6   4      0 0.250000 0.250000 0.250000 0.250000\n",
      "  6   5      0 0.250000 0.250000 0.250000 0.250000\n",
      "  6   6      0 0.250000 0.250000 0.250000 0.250000\n",
      "  6   7      0 0.250000 0.250000 0.250000 0.250000\n",
      "  6   8      0 0.250000 0.250000 0.250000 0.250000\n",
      "  6   9      0 0.250000 0.250000 0.250000 0.250000\n",
      "  6  10      1 0.000000 0.996386 0.000000 0.003614\n",
      "  6  11      0 0.250000 0.250000 0.250000 0.250000\n",
      "  6  12      0 0.943992 0.048249 0.003880 0.003880\n",
      "  6  13      0 0.949084 0.003842 0.047074 0.000000\n",
      "  6  14      1 0.043734 0.908909 0.043734 0.003624\n",
      "  6  15      2 0.003828 0.046894 0.945451 0.003828\n",
      "  7   0      0 0.250000 0.250000 0.250000 0.250000\n",
      "  7   1      0 0.250000 0.250000 0.250000 0.250000\n",
      "  7   2      0 0.250000 0.250000 0.250000 0.250000\n",
      "  7   3      0 0.250000 0.250000 0.250000 0.250000\n",
      "  7   4      0 0.250000 0.250000 0.250000 0.250000\n",
      "  7   5      0 0.250000 0.250000 0.250000 0.250000\n",
      "  7   6      0 0.250000 0.250000 0.250000 0.250000\n",
      "  7   7      0 0.250000 0.250000 0.250000 0.250000\n",
      "  7   8      1 0.000000 0.996445 0.000000 0.003555\n",
      "  7   9      1 0.035738 0.957541 0.003360 0.003360\n",
      "  7  10      2 0.003301 0.035690 0.925319 0.035690\n",
      "  7  11      0 0.987457 0.004181 0.004181 0.004181\n",
      "  7  12      3 0.003760 0.047459 0.047459 0.901323\n",
      "  7  13      0 0.988180 0.003940 0.003940 0.003940\n",
      "  7  14      1 0.003578 0.911365 0.042528 0.042528\n",
      "  7  15      3 0.003880 0.048249 0.003880 0.943992\n",
      "  8   0      0 0.250000 0.250000 0.250000 0.250000\n",
      "  8   1      0 0.250000 0.250000 0.250000 0.250000\n",
      "  8   2      0 0.250000 0.250000 0.250000 0.250000\n",
      "  8   3      0 0.250000 0.250000 0.250000 0.250000\n",
      "  8   4      0 0.250000 0.250000 0.250000 0.250000\n",
      "  8   5      0 0.250000 0.250000 0.250000 0.250000\n",
      "  8   6      0 0.250000 0.250000 0.250000 0.250000\n",
      "  8   7      0 0.989410 0.003530 0.003530 0.003530\n",
      "  8   8      0 0.899306 0.033565 0.033565 0.033565\n",
      "  8   9      1 0.003208 0.929663 0.033564 0.033564\n",
      "  8  10      3 0.003463 0.038054 0.003463 0.955019\n",
      "  8  11      1 0.004364 0.986907 0.004364 0.004364\n",
      "  8  12      3 0.003984 0.051028 0.003984 0.941003\n",
      "  8  13      1 0.041703 0.951059 0.003619 0.003619\n",
      "  8  14      2 0.003532 0.041341 0.913785 0.041341\n",
      "  8  15      3 0.003932 0.049627 0.003932 0.942509\n",
      "  9   0      0 0.250000 0.250000 0.250000 0.250000\n",
      "  9   1      0 0.250000 0.250000 0.250000 0.250000\n",
      "  9   2      0 0.250000 0.250000 0.250000 0.250000\n",
      "  9   3      0 0.250000 0.250000 0.250000 0.250000\n",
      "  9   4      0 0.250000 0.250000 0.250000 0.250000\n",
      "  9   5      0 0.250000 0.250000 0.250000 0.250000\n",
      "  9   6      0 0.250000 0.250000 0.250000 0.250000\n",
      "  9   7      0 0.250000 0.250000 0.250000 0.250000\n",
      "  9   8      3 0.003530 0.003530 0.003530 0.989410\n",
      "  9   9      1 0.003258 0.959970 0.003258 0.033515\n",
      "  9  10      3 0.000000 0.003659 0.003659 0.992682\n",
      "  9  11      0 0.937924 0.004089 0.004089 0.053898\n",
      "  9  12      3 0.004036 0.004036 0.052452 0.939475\n",
      "  9  13      1 0.003580 0.955812 0.000000 0.040608\n",
      "  9  14      3 0.003880 0.003880 0.003880 0.988359\n",
      "  9  15      3 0.004181 0.004181 0.004181 0.987457\n",
      " 10   0      0 0.250000 0.250000 0.250000 0.250000\n",
      " 10   1      0 0.250000 0.250000 0.250000 0.250000\n",
      " 10   2      0 0.250000 0.250000 0.250000 0.250000\n",
      " 10   3      0 0.250000 0.250000 0.250000 0.250000\n",
      " 10   4      0 0.250000 0.250000 0.250000 0.250000\n",
      " 10   5      0 0.250000 0.250000 0.250000 0.250000\n",
      " 10   6      0 0.250000 0.250000 0.250000 0.250000\n",
      " 10   7      0 0.250000 0.250000 0.250000 0.250000\n",
      " 10   8      0 0.989922 0.003359 0.003359 0.003359\n",
      " 10   9      1 0.030646 0.908061 0.030646 0.030646\n",
      " 10  10      2 0.000000 0.003371 0.993259 0.003371\n",
      " 10  11      2 0.003320 0.034730 0.961950 0.000000\n",
      " 10  12      0 0.988889 0.003704 0.003704 0.003704\n",
      " 10  13      1 0.003394 0.920819 0.037893 0.037893\n",
      " 10  14      1 0.003704 0.988889 0.003704 0.003704\n",
      " 10  15      1 0.003762 0.988713 0.003762 0.003762\n",
      " 11   0      0 0.250000 0.250000 0.250000 0.250000\n",
      " 11   1      0 0.250000 0.250000 0.250000 0.250000\n",
      " 11   2      0 0.250000 0.250000 0.250000 0.250000\n",
      " 11   3      0 0.250000 0.250000 0.250000 0.250000\n",
      " 11   4      0 0.250000 0.250000 0.250000 0.250000\n",
      " 11   5      0 0.250000 0.250000 0.250000 0.250000\n",
      " 11   6      0 0.250000 0.250000 0.250000 0.250000\n",
      " 11   7      0 0.250000 0.250000 0.250000 0.250000\n",
      " 11   8      1 0.030353 0.963437 0.003105 0.003105\n",
      " 11   9      2 0.003156 0.003156 0.962305 0.031384\n",
      " 11  10      0 0.996445 0.000000 0.000000 0.003555\n",
      " 11  11      3 0.033565 0.033565 0.033565 0.899306\n",
      " 11  12      2 0.036885 0.003412 0.956292 0.003412\n",
      " 11  13      2 0.036782 0.003348 0.923088 0.036782\n",
      " 11  14      2 0.036630 0.036630 0.890111 0.036630\n",
      " 11  15      2 0.003440 0.039024 0.918512 0.039024\n",
      " 12   0      0 0.250000 0.250000 0.250000 0.250000\n",
      " 12   1      0 0.250000 0.250000 0.250000 0.250000\n",
      " 12   2      0 0.250000 0.250000 0.250000 0.250000\n",
      " 12   3      0 0.250000 0.250000 0.250000 0.250000\n",
      " 12   4      0 0.250000 0.250000 0.250000 0.250000\n",
      " 12   5      0 0.250000 0.250000 0.250000 0.250000\n",
      " 12   6      0 0.250000 0.250000 0.250000 0.250000\n",
      " 12   7      0 0.250000 0.250000 0.250000 0.250000\n",
      " 12   8      1 0.003054 0.964546 0.003054 0.029345\n",
      " 12   9      0 0.250000 0.250000 0.250000 0.250000\n",
      " 12  10      0 0.250000 0.250000 0.250000 0.250000\n",
      " 12  11      3 0.000000 0.000000 0.000000 1.000000\n",
      " 12  12      1 0.002823 0.994353 0.000000 0.002823\n",
      " 12  13      0 0.988713 0.003762 0.003762 0.003762\n",
      " 12  14      3 0.003567 0.003567 0.040464 0.952402\n",
      " 12  15      3 0.003762 0.003762 0.003762 0.988713\n",
      " 13   0      0 0.250000 0.250000 0.250000 0.250000\n",
      " 13   1      0 0.250000 0.250000 0.250000 0.250000\n",
      " 13   2      0 0.250000 0.250000 0.250000 0.250000\n",
      " 13   3      0 0.250000 0.250000 0.250000 0.250000\n",
      " 13   4      0 0.250000 0.250000 0.250000 0.250000\n",
      " 13   5      0 0.250000 0.250000 0.250000 0.250000\n",
      " 13   6      0 0.250000 0.250000 0.250000 0.250000\n",
      " 13   7      0 0.250000 0.250000 0.250000 0.250000\n",
      " 13   8      1 0.000000 0.971469 0.000000 0.028531\n",
      " 13   9      0 0.250000 0.250000 0.250000 0.250000\n",
      " 13  10      0 0.250000 0.250000 0.250000 0.250000\n",
      " 13  11      0 0.991553 0.002816 0.002816 0.002816\n",
      " 13  12      1 0.022028 0.933917 0.022028 0.022028\n",
      " 13  13      2 0.023770 0.002756 0.970718 0.002756\n",
      " 13  14      2 0.002868 0.002868 0.991396 0.002868\n",
      " 13  15      1 0.002510 0.992471 0.002510 0.002510\n",
      " 14   0      0 0.250000 0.250000 0.250000 0.250000\n",
      " 14   1      0 0.250000 0.250000 0.250000 0.250000\n",
      " 14   2      0 0.250000 0.250000 0.250000 0.250000\n",
      " 14   3      0 0.250000 0.250000 0.250000 0.250000\n",
      " 14   4      0 0.250000 0.250000 0.250000 0.250000\n",
      " 14   5      0 0.250000 0.250000 0.250000 0.250000\n",
      " 14   6      0 0.250000 0.250000 0.250000 0.250000\n",
      " 14   7      0 0.996899 0.000000 0.000000 0.003101\n",
      " 14   8      0 0.946359 0.026821 0.026821 0.000000\n",
      " 14   9      1 0.002904 0.967734 0.026457 0.002904\n",
      " 14  10      1 0.002930 0.994141 0.002930 0.000000\n",
      " 14  11      0 0.971667 0.022918 0.002708 0.002708\n",
      " 14  12      0 0.936215 0.021262 0.021262 0.021262\n",
      " 14  13      1 0.002611 0.973499 0.021279 0.002611\n",
      " 14  14      0 0.976084 0.018979 0.002468 0.002468\n",
      " 14  15      1 0.002384 0.961677 0.017970 0.017970\n",
      " 15   0      0 0.250000 0.250000 0.250000 0.250000\n",
      " 15   1      0 0.250000 0.250000 0.250000 0.250000\n",
      " 15   2      0 0.250000 0.250000 0.250000 0.250000\n",
      " 15   3      0 0.250000 0.250000 0.250000 0.250000\n",
      " 15   4      0 0.250000 0.250000 0.250000 0.250000\n",
      " 15   5      0 0.250000 0.250000 0.250000 0.250000\n",
      " 15   6      0 0.250000 0.250000 0.250000 0.250000\n",
      " 15   7      0 1.000000 0.000000 0.000000 0.000000\n",
      " 15   8      3 0.003004 0.003004 0.028360 0.965632\n",
      " 15   9      0 0.968751 0.002855 0.002855 0.025539\n",
      " 15  10      0 0.949021 0.002745 0.024117 0.024117\n",
      " 15  11      3 0.002756 0.002756 0.023770 0.970718\n",
      " 15  12      3 0.002763 0.002763 0.002763 0.991710\n",
      " 15  13      0 0.974382 0.002563 0.002563 0.020492\n",
      " 15  14      3 0.002516 0.002516 0.019725 0.975244\n",
      " 15  15      0 0.250000 0.250000 0.250000 0.250000\n"
     ]
    }
   ],
   "source": [
    "dump_action_distribution(policy_16x16)"
   ]
  },
  {
   "cell_type": "code",
   "execution_count": 84,
   "metadata": {
    "collapsed": true
   },
   "outputs": [],
   "source": [
    "final_trajectory = sample_trajectory(maze16x16, lambda x, y: policy_16x16.select_hard(x, y))"
   ]
  },
  {
   "cell_type": "code",
   "execution_count": 85,
   "metadata": {
    "collapsed": false
   },
   "outputs": [
    {
     "data": {
      "text/plain": [
       "65"
      ]
     },
     "execution_count": 85,
     "metadata": {},
     "output_type": "execute_result"
    }
   ],
   "source": [
    "len(final_trajectory)"
   ]
  },
  {
   "cell_type": "code",
   "execution_count": 86,
   "metadata": {
    "collapsed": true
   },
   "outputs": [],
   "source": [
    "plot_trajectory(maze16x16, final_trajectory, 0.1)"
   ]
  },
  {
   "cell_type": "code",
   "execution_count": 94,
   "metadata": {
    "collapsed": true
   },
   "outputs": [],
   "source": [
    "maze24x24 = FixedMazeEnvironment(width = 24, height = 24, goal = (23, 23), rng = rng, seed = seed,\n",
    "                                 agent_image = '/home/tomault/projects/pegushi/src/resources/penguin24x24.png')"
   ]
  },
  {
   "cell_type": "code",
   "execution_count": 95,
   "metadata": {
    "collapsed": true
   },
   "outputs": [],
   "source": [
    "policy_24x24 = TabularQFunction.from_maze_zeros(maze24x24, rng)\n",
    "trajectories_24x24 = learn(maze24x24, policy_24x24, 1000, 1.0, 0.99)"
   ]
  },
  {
   "cell_type": "code",
   "execution_count": 97,
   "metadata": {
    "collapsed": false
   },
   "outputs": [
    {
     "data": {
      "image/png": "[encoded data removed]",
      "text/plain": [
       "<Figure size 600x400 with 1 Axes>"
      ]
     },
     "metadata": {},
     "output_type": "display_data"
    },
    {
     "data": {
      "image/png": "[encoded data removed]",
      "text/plain": [
       "<Figure size 600x400 with 1 Axes>"
      ]
     },
     "metadata": {},
     "output_type": "display_data"
    }
   ],
   "source": [
    "plt.plot(list(x[1] for x in trajectories_24x24))\n",
    "plt.xlabel('Episode')\n",
    "plt.ylabel('Total Reward')\n",
    "plt.show()\n",
    "\n",
    "plt.plot(list(len(x[0]) for x in trajectories_24x24))\n",
    "plt.xlabel('Episode')\n",
    "plt.ylabel('Path length')\n",
    "plt.show()"
   ]
  },
  {
   "cell_type": "code",
   "execution_count": 98,
   "metadata": {
    "collapsed": false
   },
   "outputs": [
    {
     "data": {
      "text/plain": [
       "110"
      ]
     },
     "execution_count": 98,
     "metadata": {},
     "output_type": "execute_result"
    }
   ],
   "source": [
    "maze24x24.compute_solution_length()"
   ]
  },
  {
   "cell_type": "code",
   "execution_count": 99,
   "metadata": {
    "collapsed": false
   },
   "outputs": [
    {
     "data": {
      "text/plain": [
       "[10001,\n",
       " 10001,\n",
       " 10001,\n",
       " 10001,\n",
       " 5254,\n",
       " 130,\n",
       " 125,\n",
       " 121,\n",
       " 125,\n",
       " 137,\n",
       " 127,\n",
       " 127,\n",
       " 125,\n",
       " 125,\n",
       " 121,\n",
       " 129,\n",
       " 119,\n",
       " 122,\n",
       " 119,\n",
       " 131]"
      ]
     },
     "execution_count": 99,
     "metadata": {},
     "output_type": "execute_result"
    }
   ],
   "source": [
    "[ len(x[0]) for x in trajectories_24x24[50:70]]"
   ]
  },
  {
   "cell_type": "code",
   "execution_count": null,
   "metadata": {
    "collapsed": true
   },
   "outputs": [],
   "source": []
  }
 ],
 "metadata": {
  "kernelspec": {
   "display_name": "Python 2",
   "language": "python",
   "name": "python2"
  },
  "language_info": {
   "codemirror_mode": {
    "name": "ipython",
    "version": 2
   },
   "file_extension": ".py",
   "mimetype": "text/x-python",
   "name": "python",
   "nbconvert_exporter": "python",
   "pygments_lexer": "ipython2",
   "version": "2.7.12"
  }
 },
 "nbformat": 4,
 "nbformat_minor": 0
}
